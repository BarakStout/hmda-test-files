{
 "cells": [
  {
   "cell_type": "code",
   "execution_count": 9,
   "metadata": {},
   "outputs": [],
   "source": [
    "import json\n",
    "import os\n",
    "import pandas as pd\n",
    "import random\n",
    "import string\n",
    "import time\n",
    "import yaml"
   ]
  },
  {
   "cell_type": "code",
   "execution_count": 10,
   "metadata": {},
   "outputs": [],
   "source": [
    "def char_string_gen(length):\n",
    "    return ''.join(random.choice(string.ascii_uppercase + string.digits) for _ in range(length))\n",
    "\n",
    "def check_digit_gen(valid=True, ULI=None):\n",
    "\t\t\"\"\"Generates a check digit for a ULI in accordance with\n",
    "\t\thttps://www.consumerfinance.gov/eregulations/diff/1003-C/2015-26607_20170101/2015-26607_20180101?from_version=2015-26607_20170101#1003-C-1\"\"\"\n",
    "\t\tif ULI is None:\n",
    "\t\t\traise ValueError(\"a ULI must be supplied\")\n",
    "\t\t#GENERATING A CHECK DIGIT\n",
    "\t\t#Step 1: Starting with the leftmost character in the string that consists of the combination of the\n",
    "\t\t#Legal Entity Identifier (LEI) pursuant to § 1003.4(a)(1)(i)(A) and the additional characters identifying the\n",
    "\t\t#covered loan or application pursuant to § 1003.4(a)(1)(i)(B), replace each alphabetic character with numbers\n",
    "\t\t#in accordance with Table I below to obtain all numeric values in the string.\n",
    "\t\t\n",
    "\t\t\n",
    "\t\t#1: convert letters to digits\n",
    "\t\t#2: append '00' to right of string\n",
    "\t\t#3:Apply the mathematical function mod=(n, 97) where n= the number obtained in step 2 above and 97 is the divisor.\n",
    "\t\t#3a: Alternatively, to calculate without using the modulus operator, divide the numbers in step 2 above by 97.\n",
    "\t\t#   Truncate the remainder to three digits and multiply it by .97. Round the result to the nearest whole number.\n",
    "\t\t#4: Subtract the result in step 3 from 98. If the result is one digit, add a leading 0 to make it two digits.\n",
    "\t\t#5: The two digits in the result from step 4 is the check digit. Append the resulting check digit to the\n",
    "\t\t#   rightmost position in the combined string of characters described in step 1 above to generate the ULI.\n",
    "\t\t\n",
    "\t\t#digit_vals contains the conversion of numbers to letters\n",
    "\t\tdigit_vals = {\n",
    "\t\t'A':10, 'H':17,'O':24,'V':31,'B':11,'I':18,'P':25,'W':32,'C':12,'J':19,'Q':26,'X':33,'D':13,'K':20,'R':27,'Y':34,\n",
    "\t\t'E':14,'L':21,'S':28,'Z':35,'F':15,'M':22,'T':29,'G':16,'N':23,'U':30}\n",
    "\t\t\n",
    "\t\tuli_chars = list(ULI)\n",
    "\t\tmod_uli_chars = []\n",
    "\t\tfor char in uli_chars:\n",
    "\t\t\tif char.upper() in digit_vals.keys():\n",
    "\t\t\t\tmod_uli_chars.append(str(digit_vals[char.upper()]))\n",
    "\t\t\telse:\n",
    "\t\t\t\tmod_uli_chars.append(char)\n",
    "\t\tmod_uli_chars.append('00') \n",
    "\t\tdigit_base = int(\"\".join(mod_uli_chars))\n",
    "\t\tdigit_modulo = digit_base % 97\n",
    "\t\tcheck_digit = 98 - digit_modulo\n",
    "\n",
    "\t\tif valid:\n",
    "\t\t\treturn str(check_digit).zfill(2) #left pad check digit with 0 if length is less than 2\n",
    "\t\telse:\n",
    "\t\t\treturn str(check_digit+6).zfill(2)[:2] #return a bad check digit (used in edit testing)\n",
    "\n",
    "def uli_check(df=None):\n",
    "    df['unique'] = df\n",
    "    if len(df['unique'].unique()) == len(df.index):\n",
    "        statement = \"Done\"\n",
    "    else: \n",
    "        statement = \"Rerun\"\n",
    "    print(statement)\n",
    "    return df.drop('unique', axis = 1)\n",
    "    print(df)\n"
   ]
  },
  {
   "cell_type": "code",
   "execution_count": 11,
   "metadata": {},
   "outputs": [],
   "source": [
    "file = \"edits_files/clean_file_1000_rows_Bank1.txt\"\n",
    "\n",
    "def large_files_bank1(file = None, count = None):\n",
    "    \"\"\"\n",
    "    This function passes a clean 1000 row test file and a count that is a multiple of 1000, \n",
    "    to create large test files for bank 1 with the number of rows equal to count. \n",
    "    \n",
    "    This function also uses the uli_check function to check for duplicate uli's. \n",
    "    \"\"\"\n",
    "    with open(file, 'r' ) as f:\n",
    "        ts_row = f.readline()\n",
    "        lar_rows = f.readlines()\n",
    "    with open(\"edits_files/lar_rows.txt\", 'w') as out_lar:\n",
    "        out_lar.writelines(lar_rows)\n",
    "    with open(\"edits_files/ts_row.txt\", 'w') as out_ts:\n",
    "        out_ts.writelines(ts_row)\n",
    "    with open('schemas/lar_schema.json') as d:\n",
    "        data = json.load(d)\n",
    "        data = pd.DataFrame(data)\n",
    "    \n",
    "    df = pd.read_csv('edits_files/lar_rows.txt', delimiter = \"|\", header = None)\n",
    "    df.columns = data['field']\n",
    "    df = pd.concat([df]*int((count/1000)), ignore_index = True)  \n",
    "    \n",
    "    uli_1 = {'uli':list(['BANK1LEIFORTEST12345']*int((count)))}\n",
    "    df1 = pd.DataFrame(uli_1)\n",
    "    df1[\"uli\"] = df1.apply(lambda x: x.uli + char_string_gen(23), axis = 1)\n",
    "    df1['uli'] = df1.apply(lambda x: x.uli + check_digit_gen(ULI = x.uli), axis = 1)\n",
    "    uli_check(df1)\n",
    "    \n",
    "    df['uli'] = df1['uli']\n",
    "    \n",
    "    df.to_csv(\"lar_\" + str(count) + \".txt\", sep = \"|\", index = False, header= None)\n",
    "    \n",
    "    with open(\"lar_\" + str(count) + \".txt\", 'r' ) as f:\n",
    "        lar_count = f.readlines()\n",
    "    \n",
    "    with open(\"edits_files/ts_row.txt\", 'a') as append_lar:\n",
    "        append_lar.writelines(lar_count)\n",
    "    \n",
    "    os.remove(\"lar_\" + str(count) + \".txt\")\n",
    "    return os.rename(\"edits_files/ts_row.txt\", \"edits_files/file_bank1_\" + str(count) + \".txt\")\n",
    "\n",
    "    \n",
    "    "
   ]
  },
  {
   "cell_type": "code",
   "execution_count": 12,
   "metadata": {
    "scrolled": true
   },
   "outputs": [
    {
     "name": "stdout",
     "output_type": "stream",
     "text": [
      "Done\n"
     ]
    }
   ],
   "source": [
    "large_files_bank1(file=file, count=1000)"
   ]
  }
 ],
 "metadata": {
  "kernelspec": {
   "display_name": "Python 3",
   "language": "python",
   "name": "python3"
  },
  "language_info": {
   "codemirror_mode": {
    "name": "ipython",
    "version": 3
   },
   "file_extension": ".py",
   "mimetype": "text/x-python",
   "name": "python",
   "nbconvert_exporter": "python",
   "pygments_lexer": "ipython3",
   "version": "3.7.0"
  }
 },
 "nbformat": 4,
 "nbformat_minor": 2
}
