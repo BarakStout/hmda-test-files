{
 "cells": [
  {
   "cell_type": "code",
   "execution_count": 1,
   "metadata": {
    "collapsed": true
   },
   "outputs": [],
   "source": [
    "# K. David Roell 8/23/2017\n",
    "# This file will modify files created in CYOA test files so that the files fail specific edits\n"
   ]
  },
  {
   "cell_type": "code",
   "execution_count": 2,
   "metadata": {
    "collapsed": true
   },
   "outputs": [],
   "source": [
    "import os\n",
    "import pandas as pd\n",
    "import random\n",
    "import string\n",
    "\n",
    "pd.set_option(\"display.max_columns\",110)"
   ]
  },
  {
   "cell_type": "code",
   "execution_count": 3,
   "metadata": {
    "collapsed": true
   },
   "outputs": [],
   "source": [
    "#Lists of names will be used for loading data into Pandas frames\n",
    "LAR_field_names = [\n",
    "    \"record_id\",\"lei\",\"uli\",\"app_date\",\"loan_type\",\"loan_purpose\",\n",
    "    \"preapproval\",\"const_method\",\"occ_type\",\"loan_amount\",\"action_taken\",\n",
    "    \"action_date\",\"street_address\",\"city\",\"state\",\"zip_code\",\"county\",\n",
    "    \"tract\",\"app_eth_1\",\"app_eth_2\",\"app_eth_3\",\"app_eth_4\",\"app_eth_5\",\n",
    "    \"app_eth_code_14\",\"co_app_eth_1\",\"co_app_eth_2\",\n",
    "    \"co_app_eth_3\",\"co_app_eth_4\",\"co_app_eth_5\",\"co_app_eth_code_14\",\n",
    "    \"app_eth_basis\",\"co_app_eth_basis\",\"app_race_1\",\"app_race_2\",\n",
    "    \"app_race_3\",\"app_race_4\",\"app_race_5\",\"app_race_code_1\",\n",
    "    \"app_race_code_27\",\"app_race_code_44\",\"co_app_race_1\",\"co_app_race_2\",\n",
    "    \"co_app_race_3\",\"co_app_race_4\",\"co_app_race_5\",\"co_app_race_code_1\",\n",
    "    \"co_app_race_code_27\",\"co_app_race_code_44\",\"app_race_basis\",\n",
    "    \"co_app_race_basis\",\"app_sex\",\"co_app_sex\",\"app_sex_basis\",\n",
    "    \"co_app_sex_basis\",\"app_age\",\"co_app_age\",\"income\",\"purchaser_type\",\n",
    "    \"rate_spread\",\"hoepa\",\"lien\",\"app_credit_score\",\"co_app_credit_score\",\n",
    "    \"app_score_name\",\"app_score_code_8\",\"co_app_score_name\",\n",
    "    \"co_app_score_code_8\",\"denial_1\",\"denial_2\",\"denial_3\",\"denial_4\",\n",
    "    \"denial_code_9\",\"loan_costs\",\"points_fees\",\"origination_fee\",\n",
    "    \"discount_points\",\"lender_credits\",\"interest_rate\",\"prepayment_penalty\",\n",
    "    \"dti\",\"cltv\",\"loan_term\",\"intro_rate\",\"balloon\",\"int_only_pmts\",\n",
    "    \"neg_amort\",\"non_amort_features\",\"property_value\",\"manufactured_type\",\n",
    "    \"manufactured_interest\",\"total_units\",\"affordable_units\",\n",
    "    \"submission_type\",\"initially_payable\",\"mlo_id\",\"aus_1\",\"aus_2\",\n",
    "    \"aus_3\",\"aus_4\",\"aus_5\",\"aus_code_5\",\"aus_result_1\",\"aus_result_2\",\n",
    "    \"aus_result_3\",\"aus_result_4\",\"aus_result_5\",\"aus_code_16\",\n",
    "    \"reverse_mortgage\",\"open_end_credit\",\"business_purpose\"]\n",
    "\n",
    "TS_field_names= [\n",
    "    \"record_id\",\"inst_name\",\"calendar_year\",\"calendar_quarter\",\n",
    "    \"contact_name\",\"contact_tel\",\"contact_email\",\"contact_street_address\",\n",
    "    \"office_city\",\"office_state\",\"office_zip\",\"federal_agency\",\n",
    "    \"lar_entries\",\"tax_id\",\"lei\"]"
   ]
  },
  {
   "cell_type": "code",
   "execution_count": 4,
   "metadata": {},
   "outputs": [
    {
     "ename": "FileNotFoundError",
     "evalue": "[Errno 2] No such file or directory: 'edits_files/file_parts/ts_small.txt'",
     "output_type": "error",
     "traceback": [
      "\u001b[0;31m---------------------------------------------------------------------------\u001b[0m",
      "\u001b[0;31mFileNotFoundError\u001b[0m                         Traceback (most recent call last)",
      "\u001b[0;32m<ipython-input-4-605c471acb63>\u001b[0m in \u001b[0;36m<module>\u001b[0;34m()\u001b[0m\n\u001b[1;32m      1\u001b[0m \u001b[0;31m#load TS rows for adding to LAR file parts\u001b[0m\u001b[0;34m\u001b[0m\u001b[0;34m\u001b[0m\u001b[0m\n\u001b[0;32m----> 2\u001b[0;31m \u001b[0mts_row_sm\u001b[0m \u001b[0;34m=\u001b[0m \u001b[0mopen\u001b[0m\u001b[0;34m(\u001b[0m\u001b[0;34m\"edits_files/file_parts/ts_small.txt\"\u001b[0m\u001b[0;34m,\u001b[0m \u001b[0;34m'r'\u001b[0m\u001b[0;34m)\u001b[0m\u001b[0;34m.\u001b[0m\u001b[0mreadline\u001b[0m\u001b[0;34m(\u001b[0m\u001b[0;34m)\u001b[0m\u001b[0;34m\u001b[0m\u001b[0m\n\u001b[0m\u001b[1;32m      3\u001b[0m \u001b[0mts_row_med\u001b[0m \u001b[0;34m=\u001b[0m \u001b[0mopen\u001b[0m\u001b[0;34m(\u001b[0m\u001b[0;34m\"edits_files/file_parts/ts_small.txt\"\u001b[0m\u001b[0;34m,\u001b[0m \u001b[0;34m'r'\u001b[0m\u001b[0;34m)\u001b[0m\u001b[0;34m.\u001b[0m\u001b[0mreadline\u001b[0m\u001b[0;34m(\u001b[0m\u001b[0;34m)\u001b[0m\u001b[0;34m\u001b[0m\u001b[0m\n\u001b[1;32m      4\u001b[0m \u001b[0mts_row_lg\u001b[0m \u001b[0;34m=\u001b[0m \u001b[0mopen\u001b[0m\u001b[0;34m(\u001b[0m\u001b[0;34m\"edits_files/file_parts/ts_small.txt\"\u001b[0m\u001b[0;34m,\u001b[0m \u001b[0;34m'r'\u001b[0m\u001b[0;34m)\u001b[0m\u001b[0;34m.\u001b[0m\u001b[0mreadline\u001b[0m\u001b[0;34m(\u001b[0m\u001b[0;34m)\u001b[0m\u001b[0;34m\u001b[0m\u001b[0m\n\u001b[1;32m      5\u001b[0m \u001b[0mts_rows\u001b[0m \u001b[0;34m=\u001b[0m \u001b[0;34m[\u001b[0m\u001b[0mts_row_sm\u001b[0m\u001b[0;34m,\u001b[0m \u001b[0mts_row_med\u001b[0m\u001b[0;34m,\u001b[0m \u001b[0mts_row_lg\u001b[0m\u001b[0;34m]\u001b[0m\u001b[0;34m\u001b[0m\u001b[0m\n",
      "\u001b[0;31mFileNotFoundError\u001b[0m: [Errno 2] No such file or directory: 'edits_files/file_parts/ts_small.txt'"
     ]
    }
   ],
   "source": [
    "#load TS rows for adding to LAR file parts\n",
    "ts_row_sm = open(\"edits_files/file_parts/ts_small.txt\", 'r').readline()\n",
    "ts_row_med = open(\"edits_files/file_parts/ts_small.txt\", 'r').readline()\n",
    "ts_row_lg = open(\"edits_files/file_parts/ts_small.txt\", 'r').readline()\n",
    "ts_rows = [ts_row_sm, ts_row_med, ts_row_lg]"
   ]
  },
  {
   "cell_type": "code",
   "execution_count": null,
   "metadata": {
    "collapsed": true
   },
   "outputs": [],
   "source": [
    "#common variables\n",
    "path = \"edits_files/file_parts/\"\n",
    "final_path =\"edits_files/syntax/\"\n",
    "file_name = \"lar_passes_{size}_no_ts.txt\"\n",
    "\n",
    "#Helper functions\n",
    "\n",
    "def write_lar_files(edit_name, ts_rows=ts_rows):\n",
    "    \"\"\"Writes edit testing files to edit folder.\"\"\"\n",
    "    if edit_name[:1]==\"s\":\n",
    "        edit_type = \"syntax\"\n",
    "    elif edit_name[:1]==\"v\":\n",
    "        edit_type = \"validity\"\n",
    "    elif edit_name[:1]==\"q\":\n",
    "        edit_type = \"quality\"\n",
    "    \n",
    "    source_path = \"edits_files/file_parts/\"\n",
    "    final_path = \"edits_files/\" + edit_type + \"/\"\n",
    "    source_names = [\"_lar_sm.txt\", \"_lar_med.txt\", \"_lar_lg.txt\"]\n",
    "    sizes = [\"sm\", \"med\", \"lg\"]\n",
    "    \n",
    "    if not os.path.exists(final_path):\n",
    "        os.makedirs(final_path)\n",
    "    \n",
    "    for source_name, size, ts_row in zip(source_names, sizes, ts_rows):\n",
    "        outfile = edit_name+\"_\"+size+\".txt\"\n",
    "        with open(source_path+source_name, 'r') as source_file:\n",
    "            with open(final_path+outfile, 'w') as final_file:\n",
    "                final_file.write(ts_row)\n",
    "                for line in source_file.readlines():\n",
    "                    final_file.write(line)\n",
    "\n",
    "def write_mod_lars():\n",
    "    \"\"\"Writes modified LAR data to intermediate file prior to adding TS row.\"\"\"\n",
    "    sm.to_csv(path+\"_lar_sm.txt\", sep=\"|\", index=False, header=False)\n",
    "    med.to_csv(path+\"_lar_med.txt\", sep=\"|\", index=False, header=False)\n",
    "    lg.to_csv(path+\"_lar_lg.txt\", sep=\"|\", index=False, header=False)\n",
    "\n",
    "def write_mod_ts():\n",
    "    \"\"\"Writes modified TS data to intermediate file prior to adding LAR rows.\"\"\"\n",
    "    ts_sm.to_csv(path+\"_ts_sm.txt\", sep=\"|\", index=False, header=False)\n",
    "    ts_med.to_csv(path+\"_ts_med.txt\", sep=\"|\", index=False, header=False)\n",
    "    ts_lg.to_csv(path+\"_ts_lg.txt\", sep=\"|\", index=False, header=False)\n",
    "    \n",
    "def rem_file_parts(path, files=[]):\n",
    "    \"\"\"Removes the file parts used in creating test files.\"\"\"\n",
    "    for file in files:\n",
    "        os.remove(path+file)\n",
    "        \n",
    "def load_lar(size=\"small\", path=\"edits_files/file_parts/\", file_name=\"lar_passes_{size}_no_ts.txt\"):\n",
    "    \"\"\"Returns a dataframe for the file specified. This function is deprecated\"\"\"\n",
    "    return pd.read_csv(path+file_name.format(size=size), sep=\"|\", header=None, names=LAR_field_names, dtype=object)\n",
    "\n",
    "def load_mod_ts():\n",
    "    \"\"\"Loads modified TS files as strings for adding to LAR data.\"\"\"\n",
    "    sm = open(\"edits_files/file_parts/_ts_sm.txt\", 'r').readline()\n",
    "    med = open(\"edits_files/file_parts/_ts_med.txt\", 'r').readline()\n",
    "    lg = open(\"edits_files/file_parts/_ts_lg.txt\", 'r').readline()\n",
    "    return sm, med, lg\n",
    "\n",
    "def load_lars():\n",
    "    lar_sm = pd.read_csv(\"edits_files/file_parts/lar_passes_small_no_ts.txt\", sep=\"|\", header=None, names=LAR_field_names, dtype=object)\n",
    "    lar_med = pd.read_csv(\"edits_files/file_parts/lar_passes_medium_no_ts.txt\", sep=\"|\", header=None, names=LAR_field_names, dtype=object)\n",
    "    lar_lg = pd.read_csv(\"edits_files/file_parts/lar_passes_large_no_ts.txt\", sep=\"|\", header=None, names=LAR_field_names, dtype=object)\n",
    "    return lar_sm, lar_med, lar_lg\n",
    "\n",
    "def load_ts_pandas():\n",
    "    sm = pd.read_csv(\"edits_files/file_parts/ts_small.txt\", sep=\"|\", dtype=object, header=None, names=TS_field_names)\n",
    "    med = pd.read_csv(\"edits_files/file_parts/ts_medium.txt\", sep=\"|\", dtype=object, header=None, names=TS_field_names)\n",
    "    lg = pd.read_csv(\"edits_files/file_parts/ts_large.txt\", sep=\"|\", dtype=object, header=None, names=TS_field_names)\n",
    "    return sm, med, lg\n",
    "\n",
    "def random_string(length, join=\"\"):\n",
    "    \"\"\"\"\"\"\n",
    "    return \"{join}\".join(random.choice(string.ascii_uppercase + string.digits) for _ in range(length)).format(join=join)\n",
    "\n",
    "def check_digit_gen(valid=True, ULI=None):\n",
    "    \"\"\"Generates a check digit for a ULI in accordance with \n",
    "    https://www.consumerfinance.gov/eregulations/diff/1003-C/2015-26607_20170101/2015-26607_20180101?from_version=2015-26607_20170101#1003-C-1\"\"\"\n",
    "    if ULI is None:\n",
    "        raise ValueError(\"a ULI must be supplied\")\n",
    "\n",
    "    #digit_vals contains the conversion of numbers to letters\n",
    "    digit_vals = {\n",
    "    'A':10, 'H':17,'O':24,'V':31,'B':11,'I':18,'P':25,'W':32,'C':12,'J':19,'Q':26,'X':33,'D':13,'K':20,'R':27,'Y':34,\n",
    "    'E':14,'L':21,'S':28,'Z':35,'F':15,'M':22,'T':29,'G':16,'N':23,'U':30}\n",
    "    \n",
    "    uli_chars = list(ULI)\n",
    "    mod_uli_chars = []\n",
    "    for char in uli_chars:\n",
    "        if char.upper() in digit_vals.keys():\n",
    "            mod_uli_chars.append(str(digit_vals[char.upper()]))\n",
    "        else:\n",
    "            mod_uli_chars.append(char)\n",
    "    mod_uli_chars.append('00') \n",
    "    digit_base = int(\"\".join(mod_uli_chars))\n",
    "    digit_modulo = digit_base % 97\n",
    "    check_digit = 98 - digit_modulo\n",
    "    \n",
    "    if valid:\n",
    "        return str(check_digit).zfill(2) #left pad check digit with 0 if length is less than 2\n",
    "    else:\n",
    "        return str(check_digit+6).zfill(2)[:2] #return a bad check digit (used in edit testing)"
   ]
  },
  {
   "cell_type": "code",
   "execution_count": null,
   "metadata": {
    "collapsed": true
   },
   "outputs": [],
   "source": [
    "#S300\n",
    "#The data provided in the file is incorrect. Please review the information below and update your file accordingly.\n",
    "#The following criteria must be met:\n",
    "#1) The first row of your file must begin with a 1; and\n",
    "#2) Any subsequent rows must begin with a 2.\n",
    "\n",
    "#fail notes:\n",
    "#file has record id for transmittal sheet =2 and record id for lar =1\n",
    "\n",
    "ts_sm, ts_med, ts_lg = load_ts_pandas()#load TS data as dataframe for modification\n",
    "\n",
    "#change Calendar Year to 2010 (invalid for 2018)\n",
    "ts_sm.record_id = \"2\"\n",
    "ts_med.record_id = \"2\"\n",
    "ts_lg.record_id = \"2\"\n",
    "write_mod_ts() #write mod TS rows to files\n",
    "ts_sm, ts_med, ts_lg = load_mod_ts() #re-load TS data as strings \n",
    "\n",
    "#load base LAR data for modification\n",
    "sm, med, lg = load_lars()\n",
    "#modify LAR data to fail edit, change record id of lar to 1\n",
    "sm.record_id = \"1\"\n",
    "med.record_id = \"1\"\n",
    "lg.record_id = \"1\"\n",
    "#write modified LAR data to file\n",
    "write_mod_lars()\n",
    "#write test file to syntax folder\n",
    "write_lar_files(\"s300\", [ts_sm, ts_med, ts_lg])"
   ]
  },
  {
   "cell_type": "code",
   "execution_count": null,
   "metadata": {
    "collapsed": true
   },
   "outputs": [],
   "source": [
    "#S301\n",
    "#The LEI in this row does not match the reported LEI in the transmittal sheet (the first row of your file). \n",
    "#Please update your file accordingly.\n",
    "\n",
    "#fail notes\n",
    "#LEI in LAR rows has been changed to a random string of ASCII characters\n",
    "\n",
    "#load base LAR data for modification\n",
    "sm, med, lg = load_lars()\n",
    "#change LEI in LAR rows\n",
    "sm.lei = (''.join(random.choice(string.ascii_uppercase + string.digits) for _ in range(20)))\n",
    "med.lei = (''.join(random.choice(string.ascii_uppercase + string.digits) for _ in range(20)))\n",
    "lg.lei = (''.join(random.choice(string.ascii_uppercase + string.digits) for _ in range(20)))\n",
    "#write modified LAR data to file\n",
    "write_mod_lars()\n",
    "#write test file to syntax folder\n",
    "write_lar_files(\"s301\")\n",
    "#remove file parts used to create edit\n",
    "rem_file_parts(path, files=['_lar_sm.txt', '_lar_med.txt', '_lar_lg.txt'])"
   ]
  },
  {
   "cell_type": "code",
   "execution_count": null,
   "metadata": {
    "collapsed": true
   },
   "outputs": [],
   "source": [
    "#V600\n",
    "#An LEI in an invalid format was provided. Please review the information below and update your file accordingly.\n",
    "#1) The required format for LEI is alphanumeric with 20 characters, and it cannot be left blank.\n",
    "\n",
    "#fail notes\n",
    "#LEI is blank for each LAR row\n",
    "\n",
    "#load base LAR data\n",
    "sm, med, lg = load_lars()\n",
    "#change LEI to invalid format (blank)\n",
    "sm.lei = \"\"\n",
    "med.lei = \"\"\n",
    "lg.lei = \"\"\n",
    "#write modified LAR data to file\n",
    "write_mod_lars()\n",
    "#write test file to validity folder\n",
    "write_lar_files(\"v600\")\n"
   ]
  },
  {
   "cell_type": "code",
   "execution_count": null,
   "metadata": {
    "collapsed": true
   },
   "outputs": [],
   "source": [
    "#S302\n",
    "#The reported Calendar Year does not match the filing year indicated at the start of the filing. \n",
    "#Please confirm the information below and update your file accordingly.\n",
    "#1) The correct file has been uploaded; and\n",
    "#2) The correct filing year was chosen at the start of the filing; and\n",
    "#3) The calendar year is listed correctly in the file.\n",
    "\n",
    "#fail notes\n",
    "#Calendar Year in the TS row has been changed to 2010\n",
    "\n",
    "#load base LAR data\n",
    "sm, med, lg = load_lars()\n",
    "ts_sm, ts_med, ts_lg = load_ts_pandas()#load TS data as dataframe for modification\n",
    "\n",
    "#change Calendar Year to 2010 (invalid for 2018)\n",
    "ts_sm.calendar_year = \"2010\"\n",
    "ts_med.calendar_year = \"2010\"\n",
    "ts_lg.calendar_year = \"2010\"\n",
    "#write mod TS rows to files\n",
    "write_mod_ts()\n",
    "#re-load TS data as strings\n",
    "ts_sm, ts_med, ts_lg = load_mod_ts()\n",
    "#write mod LARs (overwrites other modified LARs)\n",
    "write_mod_lars()\n",
    "#write test file to syntax folder\n",
    "write_lar_files(\"s302\", ts_rows=[ts_sm, ts_med, ts_lg])"
   ]
  },
  {
   "cell_type": "code",
   "execution_count": null,
   "metadata": {
    "collapsed": true
   },
   "outputs": [],
   "source": [
    "#S303\n",
    "#The reported Federal Agency; Federal Taxpayer Identification Number; \n",
    "#and Legal Entity Identifier must match the Federal Agency; Federal Taxpayer Identification Number; \n",
    "#and Legal Entity Identifier for the financial institution for which you are filing. \n",
    "#Please confirm the information below and update your file accordingly.\n",
    "#1) The correct financial institution was at the start of the filing; and\n",
    "#2) The correct file was uploaded; and\n",
    "#3) The Federal Agency, Federal Taxpayer Identification Number, \n",
    "#and Legal Entity Identifier are reported correctly in the file.\n",
    "\n",
    "#fail nots\n",
    "#Requires a match against panel\n",
    "#Discuss how to implement this file"
   ]
  },
  {
   "cell_type": "code",
   "execution_count": null,
   "metadata": {
    "collapsed": true
   },
   "outputs": [],
   "source": [
    "#S304\n",
    "#The reported Total Number of Entries Contained in Submission does not match the total number of LARs in the HMDA file.\n",
    "#Please update your file accordingly.\n",
    "\n",
    "#fail notes:\n",
    "#TS rows have been re-ordered sm>md, md>lg, lg>sm\n",
    "\n",
    "#load base LAR data\n",
    "sm, med, lg = load_lars()\n",
    "#change TS rows\n",
    "s304_ts_sm = ts_row_med\n",
    "s304_ts_med = ts_row_lg\n",
    "s304_ts_lg = ts_row_sm\n",
    "#write mod LARs (overwrites other modified LAR files)\n",
    "write_mod_lars()\n",
    "#write test file to syntax folder\n",
    "write_lar_files(\"s304\", ts_rows=[s304_ts_sm, s304_ts_med, s304_ts_lg])"
   ]
  },
  {
   "cell_type": "code",
   "execution_count": null,
   "metadata": {
    "collapsed": true
   },
   "outputs": [],
   "source": [
    "#V601\n",
    "#The following data fields are required, and cannot be left blank. A blank value(s) was provided. \n",
    "#Please review the information below and update your file accordingly.\n",
    "#1) Financial Institution Name;\n",
    "#2) Contact Person's Name;\n",
    "#3) Contact Person's E-mail Address;\n",
    "#4) Contact Person's Office Street Address;\n",
    "#￼5) Contact Person's Office City\n",
    "\n",
    "#fail notes\n",
    "#contact data has been changed to blank\n",
    "change_fields = [\"contact_name\",\"contact_tel\",\"contact_email\",\"contact_street_address\",\"office_city\"]\n",
    "#load base LAR data\n",
    "sm, med, lg = load_lars()\n",
    "#load TS rows as dataframes for modification (prevents issues with changes to field values)\n",
    "ts_sm, ts_med, ts_lg = load_ts_pandas()\n",
    "#change TS row data to fail edit\n",
    "for field in change_fields:\n",
    "    ts_sm[field] = \"\"\n",
    "    ts_med[field] = \"\"\n",
    "    ts_lg[field] = \"\"\n",
    "#write modified TS data to files\n",
    "write_mod_ts()\n",
    "#write mod LARs (overwrites other modified LAR data)\n",
    "write_mod_lars()\n",
    "#re-load TS data as strings\n",
    "ts_sm, ts_med, ts_lg = load_mod_ts()\n",
    "#write test file to validity folder\n",
    "write_lar_files(\"v601\", ts_rows=[ts_sm, ts_med, ts_lg])"
   ]
  },
  {
   "cell_type": "code",
   "execution_count": null,
   "metadata": {
    "collapsed": true
   },
   "outputs": [],
   "source": [
    "#V602\n",
    "#An invalid Calendar Quarter was reported. Please review the information below and update your file accordingly.\n",
    "#1) Calendar Quarter must equal 4, and cannot be left blank.\n",
    "\n",
    "#fail notes:\n",
    "#calendar quarter has been changed to blank\n",
    "\n",
    "#load base LAR data\n",
    "sm, med, lg = load_lars()\n",
    "#write mod LARs (overwrites other modified LAR data)\n",
    "write_mod_lars()\n",
    "#load TS rows as dataframe for modification\n",
    "ts_sm, ts_med, ts_lg = load_ts_pandas()\n",
    "#change TS row data to fail edit\n",
    "ts_sm.calendar_quarter = \"\"\n",
    "ts_med.calendar_quarter = \"\"\n",
    "ts_lg.calendar_quarter = \"\"\n",
    "#write modified TS data\n",
    "write_mod_ts()\n",
    "#re-load TS data as strings\n",
    "ts_sm, ts_med, ts_lg = load_mod_ts()\n",
    "#write test files to validity folder\n",
    "write_lar_files(\"v602\", ts_rows=[ts_sm, ts_med, ts_lg])"
   ]
  },
  {
   "cell_type": "code",
   "execution_count": null,
   "metadata": {
    "collapsed": true
   },
   "outputs": [],
   "source": [
    "#v603\n",
    "#An invalid Contact Person's Telephone Number was provided. \n",
    "#Please review the information below and update your file accordingly.\n",
    "#1) The required format for the Contact Person's Telephone Number is 999-999-9999, and it cannot be left blank.\n",
    "\n",
    "#fail notes:\n",
    "#Contact phone has been changed to 555-5555\n",
    "\n",
    "#load base LAR data\n",
    "sm, med, lg = load_lars()\n",
    "#write mod LARs (overwrites other modified LAR data)\n",
    "write_mod_lars()\n",
    "#load TS rows as dataframe for modification\n",
    "ts_sm, ts_med, ts_lg = load_ts_pandas()\n",
    "#change TS row data to fail edit\n",
    "ts_sm.contact_tel = \"555-5555\"\n",
    "ts_med.contact_tel = \"555-5555\"\n",
    "ts_lg.contact_tel = \"555-5555\"\n",
    "#write mod TS rows to files\n",
    "write_mod_ts()\n",
    "#re-load TS data as strings\n",
    "ts_sm, ts_med, ts_lg = load_mod_ts()\n",
    "#write test files to validity folder\n",
    "write_lar_files(\"v603\", ts_rows=[ts_sm, ts_med, ts_lg])"
   ]
  },
  {
   "cell_type": "code",
   "execution_count": null,
   "metadata": {
    "collapsed": true
   },
   "outputs": [],
   "source": [
    "#V604\n",
    "#An invalid Contact Person's Office State was provided. \n",
    "#Please review the information below and update your file accordingly.\n",
    "#1) Contact Person's Office State must be a two letter state code, and cannot be left blank.\n",
    "\n",
    "#fail notes:\n",
    "#Office State has been changed to 3 characters\n",
    "\n",
    "#load base LAR data\n",
    "sm, med, lg = load_lars()\n",
    "#write mod LARs (overwrites other modified LAR data)\n",
    "write_mod_lars()\n",
    "#load TS rows as dataframe for modification\n",
    "ts_sm, ts_med, ts_lg = load_ts_pandas()\n",
    "#change TS row data to fail edit\n",
    "ts_sm.office_state = \"UTX\"\n",
    "ts_med.office_state = \"UTX\"\n",
    "ts_lg.office_state = \"UTX\"\n",
    "#write mod TS rows to files\n",
    "write_mod_ts()\n",
    "#re-load TS data as strings\n",
    "ts_sm, ts_med, ts_lg = load_mod_ts()\n",
    "#write test files to validity folder\n",
    "write_lar_files(\"v604\", ts_rows=[ts_sm,ts_med,ts_lg])\n"
   ]
  },
  {
   "cell_type": "code",
   "execution_count": null,
   "metadata": {
    "collapsed": true
   },
   "outputs": [],
   "source": [
    "#V605\n",
    "#An invalid Contact Person's ZIP Code was provided. \n",
    "#Please review the information below and update your file accordingly.\n",
    "#1) The required format for the Contact Person's ZIP Code is 12345-1010 or 12345, and it cannot be left blank.\n",
    "\n",
    "#fail notes:\n",
    "#ZIP Code changed to blank\n",
    "\n",
    "sm, med, lg = load_lars()#load base LAR data\n",
    "write_mod_lars()#write mod LARs (overwrites other modified LAR data)\n",
    "ts_sm, ts_med, ts_lg = load_ts_pandas()#load TS rows as dataframe for modification\n",
    "\n",
    "#change TS row data to fail edit\n",
    "ts_sm.office_zip = \"\"\n",
    "ts_med.office_zip = \"\"\n",
    "ts_lg.office_zip = \"\"\n",
    "\n",
    "write_mod_ts()#write mod TS rows to files\n",
    "ts_sm, ts_med, ts_lg = load_mod_ts() #re-load TS data as strings\n",
    "write_lar_files(\"v605\", ts_rows=[ts_sm, ts_med, ts_lg]) #write test files to validity folder"
   ]
  },
  {
   "cell_type": "code",
   "execution_count": null,
   "metadata": {
    "collapsed": true
   },
   "outputs": [],
   "source": [
    "#V606\n",
    "#The reported Total Number of Entries Contained in Submission is not in the valid format. \n",
    "#Please review the information below and update your file accordingly.\n",
    "#1) The required format for the Total Number of Entries Contained in Submission \n",
    "#is a whole number that is greater than zero, and it cannot be left blank.\n",
    "\n",
    "#fail notes:\n",
    "#TS LAR entries count changed to 0\n",
    "\n",
    "sm, med, lg = load_lars() #load LAR data\n",
    "write_mod_lars() #write mod LARs (overwrites other modified LAR data)\n",
    "ts_sm, ts_med, ts_lg = load_ts_pandas() #load TS rows as datframe for modification\n",
    "\n",
    "#change TS row data to fail edit\n",
    "ts_sm.lar_entries = \"0\"\n",
    "ts_med.lar_entries = \"0\"\n",
    "ts_lg.lar_entries = \"0\"\n",
    "\n",
    "write_mod_ts() #write mod TS rows to files\n",
    "ts_sm, ts_med, ts_lg = load_mod_ts() #re-load TS data as strings\n",
    "write_lar_files(\"v606\", ts_rows=[ts_sm, ts_med, ts_lg])"
   ]
  },
  {
   "cell_type": "code",
   "execution_count": null,
   "metadata": {
    "collapsed": true
   },
   "outputs": [],
   "source": [
    "#V607\n",
    "#An invalid Federal Taxpayer Identification Number was provided. \n",
    "#Please review the information below and update your file accordingly.\n",
    "#1) The required format for the Federal Taxpayer Identification Number is 99-9999999, and it cannot be left blank.\n",
    "\n",
    "#fail notes\n",
    "#dash removed from tax ID\n",
    "\n",
    "sm, med, lg = load_lars()\n",
    "write_mod_lars()\n",
    "ts_sm, ts_med, ts_lg = load_ts_pandas()\n",
    "\n",
    "#change TS rows to fail edit\n",
    "ts_sm.tax_id = \"999999999\"\n",
    "ts_med.tax_id = \"999999999\"\n",
    "ts_lg.tax_id = \"999999999\"\n",
    "\n",
    "write_mod_ts()\n",
    "\n",
    "ts_sm, ts_med, ts_lg = load_mod_ts()\n",
    "write_lar_files(\"v607\", ts_rows=[ts_sm, ts_med, ts_lg])"
   ]
  },
  {
   "cell_type": "code",
   "execution_count": null,
   "metadata": {
    "collapsed": true
   },
   "outputs": [],
   "source": [
    "#S305\n",
    "#A duplicate transaction has been reported. Please review and update your file accordingly.\n",
    "\n",
    "#fail notes:\n",
    "#base edits files will all fail this as they are all copies of the same 3 LARs\n"
   ]
  },
  {
   "cell_type": "code",
   "execution_count": null,
   "metadata": {
    "collapsed": true
   },
   "outputs": [],
   "source": [
    "#V608\n",
    "#A ULI with an invalid format was provided. Please review the information below and update your file accordingly.\n",
    "#1) The required format for ULI is alphanumeric with at least 23 characters and up to 45 characters, \n",
    "#and it cannot be left blank.\n",
    "\n",
    "sm, med, lg = load_lars() #load base LAR files\n",
    "#change LARs to fail edit\n",
    "sm.uli = sm.uli.apply(lambda x: random_string(3))\n",
    "med.uli = med.uli.map(lambda x: random_string(3))\n",
    "lg.uli = lg.uli.map(lambda x: random_string(3))\n",
    "write_mod_lars() #write modified LARs to files\n",
    "write_lar_files(\"v608\")"
   ]
  },
  {
   "cell_type": "code",
   "execution_count": null,
   "metadata": {
    "collapsed": true
   },
   "outputs": [],
   "source": [
    "#V609\n",
    "#An invalid ULI was reported. Please review the information below and update your file accordingly.\n",
    "#1) Based on the check digit calculation, the ULI contains a transcription error.\n",
    "\n",
    "#fail notes:\n",
    "#an invalid check digit has been used instead of a valid one\n",
    "sm, med, lg = load_lars() #load base LAR files\n",
    "#change ULI check digit\n",
    "sm.uli = sm.uli.map(lambda x: x[:-2] + check_digit_gen(valid=False, ULI=x))\n",
    "med.uli = med.uli.map(lambda x: x[:-2] + check_digit_gen(valid=False, ULI=x))\n",
    "lg.uli = lg.uli.map(lambda x: x[:-1] + check_digit_gen(valid=False, ULI=x))\n",
    "\n",
    "write_mod_lars() #write modified LARs to files\n",
    "write_lar_files(\"v609\")"
   ]
  },
  {
   "cell_type": "code",
   "execution_count": null,
   "metadata": {
    "collapsed": true
   },
   "outputs": [],
   "source": [
    "#V610\n",
    "#An invalid data field was reported. Please review the information below and update your file accordingly.\n",
    "#1) Application Date must be either a valid date using YYYYMMDD format or NA, and cannot be left blank.\n",
    "#2) If Action Taken equals 6, then Application Date must be NA, and the reverse must be true.\n",
    "\n",
    "#fail notes:\n",
    "#action taken changed to 6\n",
    "\n",
    "sm, med, lg = load_lars() #load base lar files\n",
    "#modify LAR data\n",
    "sm.action_taken = \"6\"\n",
    "med.action_taken = \"6\" \n",
    "lg.action_taken = \"6\"\n",
    "\n",
    "write_mod_lars() #write modified LARs to files\n",
    "write_lar_files(\"v610\")"
   ]
  },
  {
   "cell_type": "code",
   "execution_count": null,
   "metadata": {
    "collapsed": true
   },
   "outputs": [],
   "source": [
    "#V611\n",
    "#An invalid Loan Type was reported. Please review the information below and update your file accordingly.\n",
    "#1) Loan Type must equal 1, 2, 3, or 4, and cannot be left blank.\n",
    "\n",
    "#fail notes:\n",
    "#loan type changed to 0\n",
    "\n",
    "sm, med, lg = load_lars()\n",
    "#modify LAR data\n",
    "sm.loan_type = \"0\"\n",
    "med.loan_type = \"0\"\n",
    "lg.loan_type = \"0\"\n",
    "\n",
    "write_mod_lars()\n",
    "write_lar_files(\"v611\")"
   ]
  },
  {
   "cell_type": "code",
   "execution_count": null,
   "metadata": {
    "collapsed": true
   },
   "outputs": [],
   "source": [
    "#V612\n",
    "#An invalid Loan Purpose was reported. Please review the information below and update your file accordingly.\n",
    "#1) Loan Purpose must equal 1, 2, 31, 32, or 4, and cannot be left blank.\n",
    "#2) If Preapproval equals 1, then Loan Purpose must equal 1.\n",
    "\n",
    "#fail notes:\n",
    "#loan purpose changed to 0\n",
    "\n",
    "sm, med, lg = load_lars()\n",
    "#modify LAR data\n",
    "sm.loan_purpose = \"0\"\n",
    "med.loan_purpose = \"0\"\n",
    "lg.loan_purpose = \"0\"\n",
    "\n",
    "write_mod_lars()\n",
    "write_lar_files(\"v612\")"
   ]
  },
  {
   "cell_type": "code",
   "execution_count": null,
   "metadata": {
    "collapsed": true
   },
   "outputs": [],
   "source": [
    "#V613\n",
    "#An invalid Preapproval data field was provided. Please review the information below and update your file accordingly.\n",
    "#1) Preapproval must equal 1 or 2, and cannot be left blank.\n",
    "#2) If Action Taken equals 7 or 8, then Preapproval must equal 1.\n",
    "#3) If Action Taken equals 3, 4, 5 or 6, then Preapproval must equal 2.\n",
    "#4) If Preapproval equals 1, then Action Taken must equal 1, 2, 7 or 8.\n",
    "\n",
    "#fail notes:\n",
    "#preapproval changed to 0\n",
    "\n",
    "sm, med, lg = load_lars()\n",
    "#modify LAR data\n",
    "sm.preapproval = \"0\"\n",
    "med.preapproval = \"0\"\n",
    "lg.preapproval = \"0\"\n",
    "\n",
    "write_mod_lars()\n",
    "write_lar_files(\"v613\")"
   ]
  },
  {
   "cell_type": "code",
   "execution_count": null,
   "metadata": {
    "collapsed": true
   },
   "outputs": [],
   "source": [
    "#V614\n",
    "#An invalid Preapproval was provided. Please review the information below and update your file accordingly.\n",
    "#1) If Loan Purpose equals 2, 4, 31 or 32, then Preapproval must equal 2.\n",
    "#2) If Multifamily Affordable Units is a number, then Preapproval must equal 2.\n",
    "#3) If Reverse Mortgage equals 1, then Preapproval must equal 2.\n",
    "#4) If Open-End Line of Credit equals 1, then Preapproval must equal 2.\n",
    "\n",
    "#fail notes\n",
    "#preapproval set to 0\n",
    "\n",
    "sm, med, lg = load_lars()\n",
    "#modify LAR data\n",
    "sm.preapproval = \"0\"\n",
    "med.preapproval = \"0\"\n",
    "lg.preapproval = \"0\"\n",
    "\n",
    "write_mod_lars()\n",
    "write_lar_files(\"v614\")"
   ]
  },
  {
   "cell_type": "code",
   "execution_count": null,
   "metadata": {
    "collapsed": true
   },
   "outputs": [],
   "source": [
    "#V615\n",
    "#An invalid Construction Method was reported. Please review the information below and update your file accordingly.\n",
    "#1) Construction Method must equal 1 or 2, and cannot be left blank.\n",
    "#2) If Manufactured Home Land Property Interest equals 1, 2, 3 or 4, then Construction Method must equal 2.\n",
    "#3) If Manufactured Home Secured Property Type equals 1 or 2 then Construction Method must equal 2.\n",
    "\n",
    "#fail notes:\n",
    "#construction method set to blank\n",
    "\n",
    "sm, med, lg = load_lars()\n",
    "#modify LAR data\n",
    "sm.const_method = \"\"\n",
    "med.const_method = \"\"\n",
    "lg.const_method = \"\"\n",
    "write_mod_lars()\n",
    "write_lar_files(\"v615\")"
   ]
  },
  {
   "cell_type": "code",
   "execution_count": null,
   "metadata": {
    "collapsed": true
   },
   "outputs": [],
   "source": []
  }
 ],
 "metadata": {
  "kernelspec": {
   "display_name": "Python 3",
   "language": "python",
   "name": "python3"
  },
  "language_info": {
   "codemirror_mode": {
    "name": "ipython",
    "version": 3
   },
   "file_extension": ".py",
   "mimetype": "text/x-python",
   "name": "python",
   "nbconvert_exporter": "python",
   "pygments_lexer": "ipython3",
   "version": "3.6.2"
  }
 },
 "nbformat": 4,
 "nbformat_minor": 2
}
