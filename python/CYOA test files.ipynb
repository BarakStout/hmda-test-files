{
 "cells": [
  {
   "cell_type": "code",
   "execution_count": 3,
   "metadata": {
    "collapsed": true
   },
   "outputs": [],
   "source": [
    "#K. David Roell, 8/22/2017\n",
    "#This notebook will create LAR edit testing files using the scenarios outlined in \n",
    "#the [HMDA loan scenarios](https://www.consumerfinance.gov/data-research/hmda/static/for-filers/HMDA-Loan-Scenarios.pdf) PDF.\n",
    "#\n",
    "#\n"
   ]
  },
  {
   "cell_type": "code",
   "execution_count": 13,
   "metadata": {
    "collapsed": true
   },
   "outputs": [],
   "source": [
    "from collections import OrderedDict, namedtuple\n",
    "import os\n",
    "import pandas as pd\n",
    "import random\n",
    "\n",
    "display.max_columns = 110"
   ]
  },
  {
   "cell_type": "code",
   "execution_count": 26,
   "metadata": {},
   "outputs": [],
   "source": [
    "#LAR row counts\n",
    "#these values are present in the make_rows function as well\n",
    "lar_small = 200\n",
    "lar_medium = 1000\n",
    "lar_large = 10000\n",
    "\n",
    "#create named tuple for TS rows (small, medium, large)\n",
    "ts_tuple = namedtuple('ts_row', ['record_id', 'institution_name','calendar_year', 'calendar_quarter', 'contact_name',\n",
    "                                'contact_telephone', 'contact_email', 'contact_address','office_city', 'office_state',\n",
    "                                'office_zip', 'federal_agency', 'lar_entries', 'tax_id', 'lei'])\n",
    "\n",
    "#set TS row example variables\n",
    "ts_row_small = ts_tuple('1', 'Ficus Bank', '2018', '4', 'Smug Pockets', '555-555-5555', 'pockets@ficus.com', \n",
    "                        '1234 Ficus Lane', 'Ficusville', 'UT', '84096', '1', str(lar_small), '01-0123456',\n",
    "                        '10Bx939c5543TqA1144M')\n",
    "ts_row_medium = ts_tuple('1', 'Ficus Bank', '2018', '4', 'Smug Pockets', '555-555-5555', 'pockets@ficus.com', \n",
    "                        '1234 Ficus Lane', 'Ficusville', 'UT', '84096', '1', str(lar_medium), '01-0123456',\n",
    "                        '10Bx939c5543TqA1144M')\n",
    "ts_row_large = ts_tuple('1', 'Ficus Bank', '2018', '4', 'Smug Pockets', '555-555-5555', 'pockets@ficus.com', \n",
    "                        '1234 Ficus Lane', 'Ficusville', 'UT', '84096', '1', str(lar_large), '01-0123456',\n",
    "                        '10Bx939c5543TqA1144M')\n",
    "\n",
    "if not os.path.exists(\"edits_files/file_parts/\"):\n",
    "    os.makedirs(\"edits_files/file_parts/\")\n",
    "    \n",
    "with open(\"edits_files/file_parts/ts_small.txt\", 'w') as f:\n",
    "    f.write('|'.join(ts_row_small))\n",
    "with open(\"edits_files/file_parts/ts_medium.txt\", 'w') as f:\n",
    "    f.write('|'.join(ts_row_medium))\n",
    "with open(\"edits_files/file_parts/ts_large.txt\", 'w') as f:\n",
    "    f.write('|'.join(ts_row_large))\n",
    "\n"
   ]
  },
  {
   "cell_type": "code",
   "execution_count": 20,
   "metadata": {
    "collapsed": true
   },
   "outputs": [],
   "source": [
    "#Set LAR values as strings\n",
    "#data sourced from HMDA loan scenarios, see above for link\n",
    "\n",
    "#Single-Family closed-end loan example\n",
    "single_fam_closed_end = \"2|10Bx939c5543TqA1144M|10Bx939c5543TqA1144M999143X38|20180721|1|1|2|1|1|162000|1|20180912|456 Somewhere Ave|Los Angeles|CA|90049|06037|06037264000|12||||||2||||||2|2|5||||||||41||||||||2|2|1|2|2|2|39|32|123|1|0.428|2|1|794|803|2||6||10|||||5672|NA|1802|||3.875|NA|42|80|360|NA|2|2|2|2|202500|3|5|1|NA|1|1|12345|1||||||1||||||2|2|2\"\n",
    "\n",
    "#Non-natural person multi-family purchased loan example\n",
    "non_natural_multi_purch = \"2|10Bx939c5543TqA1144M|10Bx939c5543TqA1144M999143X38|20180721|1|1|2|1|3|585000|1|20180912|456 Somewhere Ave|Los Angeles|CA|90049|06037|06037264000|4||||||5||||||3|4|7||||||||8||||||||3|4|4|5|3|4|8888|9999|NA|3|NA|3|1|8888|9999|9||10||10|||||NA|NA|NA|NA|NA|3.875|NA|NA|59|360|NA|2|2|2|2|985500|3|5|10|5|1|1|12345|6||||||17||||||2|2|1\"\n",
    "\n",
    "#Open-end line of credit example\n",
    "open_end_credit = \"2|10Bx939c5543TqA1144M|10Bx939c5543TqA1144M999143X38|20180721|1|2|2|1|1|40000|1|20180912|456 Somewhere Ave|Los Angeles|CA|90049|06037|06037264000|12||||||2||||||2|2|5||||||||41||||||||2|2|1|2|2|2|39|32|123|0|0.428|2|2|794|803|2||6||10|||||NA|NA|NA|NA|NA|3.875|NA|42|80|240|12|2|2|2|2|202500|3|5|1|NA|1|1|12345|6||||||17||||||2|1|2\"\n"
   ]
  },
  {
   "cell_type": "code",
   "execution_count": 24,
   "metadata": {},
   "outputs": [],
   "source": [
    "def make_row_list(size='small', proportions=[.50, .25, .25], ts=False):\n",
    "    \"\"\"Creates a test file with set parameters. Number of rows should be divisible by 4 for consistent results.\"\"\"\n",
    "    rows = []\n",
    "    #set number of lar rows to create (for some edits this must match the TS row field lar entries)\n",
    "    if size =='small':\n",
    "        num_rows = 200\n",
    "    elif size =='medium':\n",
    "        num_rows = 1000\n",
    "    elif size=='large':\n",
    "        num_rows = 10000\n",
    "        \n",
    "    #set proportion of different row types\n",
    "    single_fam = int(num_rows * proportions[0])\n",
    "    purchased = int(num_rows * proportions[1])\n",
    "    open_end_lines = int(num_rows * proportions[2])\n",
    "    \n",
    "    #add TS row to beginning of rows to be written to file\n",
    "    if ts:\n",
    "        rows.append(\"|\".join(ts_row_small))\n",
    "    \n",
    "    #append rows of 3 different LAR types in proportions defined in function args\n",
    "    for row in range(single_fam):\n",
    "        rows.append(single_fam_closed_end)\n",
    "    for row in range(purchased):\n",
    "        rows.append(non_natural_multi_purch)\n",
    "    for row in range(open_end_lines):\n",
    "        rows.append(open_end_credit)\n",
    "    return rows #return the list of LAR rows\n",
    "\n",
    "def write_file(row_input=None, directory=\"edits_files/\", name=\"passes_all.txt\"):\n",
    "    \"\"\"Writes rows of TS and LAR data to a file\"\"\"\n",
    "    if not os.path.exists(directory):\n",
    "        os.makedirs(directory)\n",
    "    with open(directory + name, 'w') as final_file:\n",
    "        for line in row_input:\n",
    "            final_file.write(\"{line}\\n\".format(line=line))\n",
    "            \n",
    "file_parts_dir = \"edits_files/file_parts/\"\n",
    "full_file_dir = \"edits_files/\"\n",
    "write_file(make_row_list(),directory=file_parts_dir, name=\"lar_passes_small_no_ts.txt\")\n",
    "write_file(make_row_list(size=\"medium\"),directory=file_parts_dir, name=\"lar_passes_medium_no_ts.txt\")\n",
    "write_file(make_row_list(size=\"large\"),directory=file_parts_dir, name=\"lar_passes_large_no_ts.txt\")\n",
    "\n",
    "write_file(make_row_list(ts=True),directory=full_file_dir, name=\"lar_passes_small.txt\")\n",
    "write_file(make_row_list(ts=True, size=\"medium\"),directory=full_file_dir, name=\"lar_passes_medium.txt\")\n",
    "write_file(make_row_list(ts=True, size=\"large\"),directory=full_file_dir, name=\"lar_passes_large.txt\")"
   ]
  },
  {
   "cell_type": "code",
   "execution_count": 25,
   "metadata": {
    "collapsed": true
   },
   "outputs": [],
   "source": [
    "\n",
    "def string_gen(length):\n",
    "    \"\"\"Generates a string of random ascii characters of the chosen length.\"\"\"\n",
    "    return ''.join(random.choice(string.ascii_uppercase + string.digits) for _ in range(length))\n",
    "\n",
    "def check_digit_gen(valid=True, ULI='10Bx939c5543TqA1144M999143X'):\n",
    "    \"\"\"Generates a check digit for a ULI in accordance with \n",
    "    https://www.consumerfinance.gov/eregulations/diff/1003-C/2015-26607_20170101/2015-26607_20180101?from_version=2015-26607_20170101#1003-C-1\"\"\"\n",
    "    if ULI is None:\n",
    "        raise ValueError(\"a ULI must be supplied\")\n",
    "    #GENERATING A CHECK DIGIT\n",
    "    #Step 1: Starting with the leftmost character in the string that consists of the combination of the \n",
    "    #Legal Entity Identifier (LEI) pursuant to § 1003.4(a)(1)(i)(A) and the additional characters identifying the \n",
    "    #covered loan or application pursuant to § 1003.4(a)(1)(i)(B), replace each alphabetic character with numbers \n",
    "    #in accordance with Table I below to obtain all numeric values in the string.\n",
    "    \n",
    "    \n",
    "    #1: convert letters to digits\n",
    "    #2: append '00' to right of string\n",
    "    #3:Apply the mathematical function mod=(n, 97) where n= the number obtained in step 2 above and 97 is the divisor.\n",
    "    #3a: Alternatively, to calculate without using the modulus operator, divide the numbers in step 2 above by 97. \n",
    "    #   Truncate the remainder to three digits and multiply it by .97. Round the result to the nearest whole number.\n",
    "    #4: Subtract the result in step 3 from 98. If the result is one digit, add a leading 0 to make it two digits.\n",
    "    #5: The two digits in the result from step 4 is the check digit. Append the resulting check digit to the \n",
    "    #   rightmost position in the combined string of characters described in step 1 above to generate the ULI.\n",
    "    \n",
    "    #digit_vals contains the conversion of numbers to letters\n",
    "    digit_vals = {\n",
    "    'A':10, 'H':17,'O':24,'V':31,'B':11,'I':18,'P':25,'W':32,'C':12,'J':19,'Q':26,'X':33,'D':13,'K':20,'R':27,'Y':34,\n",
    "    'E':14,'L':21,'S':28,'Z':35,'F':15,'M':22,'T':29,'G':16,'N':23,'U':30}\n",
    "    \n",
    "    uli_chars = list(ULI)\n",
    "    mod_uli_chars = []\n",
    "    for char in uli_chars:\n",
    "        if char.upper() in digit_vals.keys():\n",
    "            mod_uli_chars.append(str(digit_vals[char.upper()]))\n",
    "        else:\n",
    "            mod_uli_chars.append(char)\n",
    "    mod_uli_chars.append('00') \n",
    "    digit_base = int(\"\".join(mod_uli_chars))\n",
    "    digit_modulo = digit_base % 97\n",
    "    check_digit = 98 - digit_modulo\n",
    "    \n",
    "    if valid:\n",
    "        return str(check_digit).zfill(2) #left pad check digit with 0 if length is less than 2\n",
    "    else:\n",
    "        return str(check_digit+6).zfill(2)[:2] #return a bad check digit (used in edit testing)\n"
   ]
  },
  {
   "cell_type": "code",
   "execution_count": null,
   "metadata": {
    "collapsed": true
   },
   "outputs": [],
   "source": []
  },
  {
   "cell_type": "code",
   "execution_count": null,
   "metadata": {
    "collapsed": true
   },
   "outputs": [],
   "source": []
  },
  {
   "cell_type": "code",
   "execution_count": null,
   "metadata": {
    "collapsed": true
   },
   "outputs": [],
   "source": []
  }
 ],
 "metadata": {
  "kernelspec": {
   "display_name": "Python 3",
   "language": "python",
   "name": "python3"
  },
  "language_info": {
   "codemirror_mode": {
    "name": "ipython",
    "version": 3
   },
   "file_extension": ".py",
   "mimetype": "text/x-python",
   "name": "python",
   "nbconvert_exporter": "python",
   "pygments_lexer": "ipython3",
   "version": "3.6.2"
  }
 },
 "nbformat": 4,
 "nbformat_minor": 2
}
