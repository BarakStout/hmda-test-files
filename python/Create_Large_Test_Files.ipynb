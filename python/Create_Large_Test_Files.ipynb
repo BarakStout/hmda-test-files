{
 "cells": [
  {
   "cell_type": "markdown",
   "metadata": {},
   "source": [
    "# Creating Custom Row HMDA Submission Test Files\n",
    "\n",
    "This notebook demonstrates a class for creating custom row HMDA submission test files."
   ]
  },
  {
   "cell_type": "code",
   "execution_count": 3,
   "metadata": {},
   "outputs": [],
   "source": [
    "#The following code imports the required packages.\n",
    "import math\n",
    "import json\n",
    "import os\n",
    "import pandas as pd\n",
    "import random\n",
    "import string\n",
    "import time\n",
    "import yaml\n",
    "import shutil as sh\n",
    "\n",
    "from lar_generator import lar_gen #Imports lar_gen class. \n",
    "from custom_test_files import Custom_Test_Files\n",
    "lg = lar_gen() #Instantiates lar_gen class as lg. "
   ]
  },
  {
   "cell_type": "markdown",
   "metadata": {},
   "source": [
    "### Custom_Test_Files Class\n",
    "\n",
    "The following demonstrates a function from the Custom_Test_Files class that creates test files with a custom number of rows. The class is instantiated with an existing file to create a new file with a specified row count. This set of functions is from the Custom_Test_Files class defined below."
   ]
  },
  {
   "cell_type": "code",
   "execution_count": 4,
   "metadata": {},
   "outputs": [
    {
     "name": "stdout",
     "output_type": "stream",
     "text": [
      "Custom_Test_Files Object Instantiated.\n"
     ]
    }
   ],
   "source": [
    "#The class is instantiated with an existing clean file\n",
    "cf = Custom_Test_Files(filename = \"../edits_files/file_parts/clean_file_1000_rows_Bank1.txt\")\n"
   ]
  },
  {
   "cell_type": "code",
   "execution_count": 5,
   "metadata": {},
   "outputs": [
    {
     "name": "stdout",
     "output_type": "stream",
     "text": [
      "Unique ULIs Assigned for Bank1\n",
      "4,000 Row File Created for Bank1 File Path: ../edits_files/new_files/clean_file_4000_rows_Bank1.txt\n"
     ]
    }
   ],
   "source": [
    "cf.create_file(row_count=4000, save_file = \"../edits_files/new_files/clean_file_4000_rows_Bank1.txt\")"
   ]
  },
  {
   "cell_type": "code",
   "execution_count": null,
   "metadata": {},
   "outputs": [],
   "source": []
  }
 ],
 "metadata": {
  "kernelspec": {
   "display_name": "Python 3",
   "language": "python",
   "name": "python3"
  },
  "language_info": {
   "codemirror_mode": {
    "name": "ipython",
    "version": 3
   },
   "file_extension": ".py",
   "mimetype": "text/x-python",
   "name": "python",
   "nbconvert_exporter": "python",
   "pygments_lexer": "ipython3",
   "version": "3.7.0"
  }
 },
 "nbformat": 4,
 "nbformat_minor": 2
}
