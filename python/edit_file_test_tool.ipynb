{
 "cells": [
  {
   "cell_type": "code",
   "execution_count": 1,
   "metadata": {},
   "outputs": [],
   "source": [
    "import yaml\n",
    "import json\n",
    "import pandas as pd\n",
    "\n",
    "from rules_engine import rules_engine\n",
    "import utils"
   ]
  },
  {
   "cell_type": "code",
   "execution_count": 2,
   "metadata": {},
   "outputs": [
    {
     "name": "stdout",
     "output_type": "stream",
     "text": [
      "/Users/roellk/Desktop/HMDA/hmda-test-files/python\r\n"
     ]
    }
   ],
   "source": [
    "use_cols = ['name', 'metDivName', 'countyFips', 'geoIdMsa', 'metDivFp', 'smallCounty', 'tracts']\n",
    "cbsa_cols = ['name', 'metDivName', 'state', 'countyFips', 'county', 'tracts','geoIdMsa', 'metDivFp', 'smallCounty', \n",
    "\t\t\t 'stateCode', 'tractDecimal']\n",
    "cbsas = pd.read_csv('../dependancies/tract_to_cbsa_2015.txt', usecols=use_cols, delimiter='|', \n",
    "\t\t\t\t\theader=None, names=cbsa_cols, dtype=str) #load tract to CBSA data from platform file\n",
    "cbsas[\"tractFips\"] = cbsas.countyFips + cbsas.tracts\n",
    "counties = list(cbsas.countyFips)\n",
    "tracts = list(cbsas.tractFips)\n",
    "\n",
    "#load schemas for LAR and transmittal sheet\n",
    "#schemas contain valid enumerations, including NA values, for each field in the dataset\n",
    "lar_schema_df = pd.DataFrame(json.load(open(\"../schemas/lar_schema.json\", \"r\")))\n",
    "ts_schema_df = pd.DataFrame(json.load(open(\"../schemas/ts_schema.json\", \"r\")))\n",
    "!pwd"
   ]
  },
  {
   "cell_type": "code",
   "execution_count": 3,
   "metadata": {},
   "outputs": [],
   "source": [
    "path = \"../edits_files/validity/\"\n",
    "file = \"v601_1.txt\""
   ]
  },
  {
   "cell_type": "code",
   "execution_count": 4,
   "metadata": {},
   "outputs": [],
   "source": [
    "#lar validator checks a dataframe and returns a JSON with generate_error_files\n",
    "checker = rules_engine(lar_schema=lar_schema_df, ts_schema=ts_schema_df, tracts=tracts, counties=counties) \n",
    "#load data to checker\n",
    "ts_df, lar_df = utils.read_data_file(path=path, data_file=file)\n",
    "checker.load_data_frames(ts_df, lar_df)"
   ]
  },
  {
   "cell_type": "code",
   "execution_count": 5,
   "metadata": {},
   "outputs": [],
   "source": [
    "for func in dir(checker):\n",
    "\t\tif func[:1] in (\"s\", \"v\") and func[1:4].isdigit()==True:\n",
    "\t\t\t#print(\"applying:\", func)\n",
    "\t\t\tgetattr(checker, func)()"
   ]
  },
  {
   "cell_type": "code",
   "execution_count": null,
   "metadata": {},
   "outputs": [],
   "source": [
    "res_df =\n"
   ]
  },
  {
   "cell_type": "code",
   "execution_count": null,
   "metadata": {},
   "outputs": [],
   "source": []
  },
  {
   "cell_type": "code",
   "execution_count": null,
   "metadata": {},
   "outputs": [],
   "source": []
  }
 ],
 "metadata": {
  "kernelspec": {
   "display_name": "Python 3",
   "language": "python",
   "name": "python3"
  },
  "language_info": {
   "codemirror_mode": {
    "name": "ipython",
    "version": 3
   },
   "file_extension": ".py",
   "mimetype": "text/x-python",
   "name": "python",
   "nbconvert_exporter": "python",
   "pygments_lexer": "ipython3",
   "version": "3.6.2"
  }
 },
 "nbformat": 4,
 "nbformat_minor": 2
}
