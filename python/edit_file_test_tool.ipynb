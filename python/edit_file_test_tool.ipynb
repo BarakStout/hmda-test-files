{
 "cells": [
  {
   "cell_type": "code",
   "execution_count": 2,
   "metadata": {},
   "outputs": [],
   "source": [
    "import yaml\n",
    "import json\n",
    "import pandas as pd\n",
    "\n",
    "from rules_engine import rules_engine\n",
    "import utils"
   ]
  },
  {
   "cell_type": "code",
   "execution_count": 3,
   "metadata": {},
   "outputs": [
    {
     "name": "stdout",
     "output_type": "stream",
     "text": [
      "/Users/roellk/Desktop/HMDA/hmda-test-files/python\r\n"
     ]
    }
   ],
   "source": [
    "use_cols = ['name', 'metDivName', 'countyFips', 'geoIdMsa', 'metDivFp', 'smallCounty', 'tracts']\n",
    "cbsa_cols = ['name', 'metDivName', 'state', 'countyFips', 'county', 'tracts','geoIdMsa', 'metDivFp', 'smallCounty', \n",
    "\t\t\t 'stateCode', 'tractDecimal']\n",
    "cbsas = pd.read_csv('../dependencies/tract_to_cbsa_2015.txt', usecols=use_cols, delimiter='|', \n",
    "\t\t\t\t\theader=None, names=cbsa_cols, dtype=str) #load tract to CBSA data from platform file\n",
    "cbsas[\"tractFips\"] = cbsas.countyFips + cbsas.tracts\n",
    "counties = list(cbsas.countyFips)\n",
    "tracts = list(cbsas.tractFips)\n",
    "\n",
    "#load schemas for LAR and transmittal sheet\n",
    "#schemas contain valid enumerations, including NA values, for each field in the dataset\n",
    "lar_schema_df = pd.DataFrame(json.load(open(\"../schemas/lar_schema.json\", \"r\")))\n",
    "ts_schema_df = pd.DataFrame(json.load(open(\"../schemas/ts_schema.json\", \"r\")))\n",
    "!pwd"
   ]
  },
  {
   "cell_type": "code",
   "execution_count": 110,
   "metadata": {},
   "outputs": [
    {
     "data": {
      "text/html": [
       "<div>\n",
       "<style>\n",
       "    .dataframe thead tr:only-child th {\n",
       "        text-align: right;\n",
       "    }\n",
       "\n",
       "    .dataframe thead th {\n",
       "        text-align: left;\n",
       "    }\n",
       "\n",
       "    .dataframe tbody tr th {\n",
       "        vertical-align: top;\n",
       "    }\n",
       "</style>\n",
       "<table border=\"1\" class=\"dataframe\">\n",
       "  <thead>\n",
       "    <tr style=\"text-align: right;\">\n",
       "      <th></th>\n",
       "      <th>edit_name</th>\n",
       "      <th>fail_count</th>\n",
       "      <th>fields</th>\n",
       "      <th>row_ids</th>\n",
       "      <th>row_type</th>\n",
       "      <th>status</th>\n",
       "    </tr>\n",
       "  </thead>\n",
       "  <tbody>\n",
       "    <tr>\n",
       "      <th>198</th>\n",
       "      <td>v688_2</td>\n",
       "      <td>15.0</td>\n",
       "      <td>Property Value</td>\n",
       "      <td>[Z6L3LVV89BUPEDZZZA0Y8TBLWM2F1DMOYE9THAUVD3U55...</td>\n",
       "      <td>LAR</td>\n",
       "      <td>failed</td>\n",
       "    </tr>\n",
       "  </tbody>\n",
       "</table>\n",
       "</div>"
      ],
      "text/plain": [
       "    edit_name  fail_count          fields  \\\n",
       "198    v688_2        15.0  Property Value   \n",
       "\n",
       "                                               row_ids row_type  status  \n",
       "198  [Z6L3LVV89BUPEDZZZA0Y8TBLWM2F1DMOYE9THAUVD3U55...      LAR  failed  "
      ]
     },
     "execution_count": 110,
     "metadata": {},
     "output_type": "execute_result"
    }
   ],
   "source": [
    "path = \"../edits_files/validity/\"\n",
    "file = \"v688_2.txt\"\n",
    "#lar validator checks a dataframe and returns a JSON with generate_error_files\n",
    "checker = rules_engine(lar_schema=lar_schema_df, ts_schema=ts_schema_df, tracts=tracts, counties=counties) \n",
    "#load data to checker\n",
    "ts_df, lar_df = utils.read_data_file(path=path, data_file=file)\n",
    "checker.load_data_frames(ts_df, lar_df)\n",
    "for func in dir(checker):\n",
    "    if func[:1] in (\"s\", \"v\") and func[1:4].isdigit()==True:\n",
    "        #print(\"applying:\", func)\n",
    "        getattr(checker, func)()\n",
    "res_df = pd.DataFrame(checker.results)\n",
    "res_df[(res_df.status==\"failed\")&(res_df.edit_name==file[:-4])]"
   ]
  },
  {
   "cell_type": "code",
   "execution_count": 5,
   "metadata": {},
   "outputs": [
    {
     "data": {
      "text/html": [
       "<div>\n",
       "<style>\n",
       "    .dataframe thead tr:only-child th {\n",
       "        text-align: right;\n",
       "    }\n",
       "\n",
       "    .dataframe thead th {\n",
       "        text-align: left;\n",
       "    }\n",
       "\n",
       "    .dataframe tbody tr th {\n",
       "        vertical-align: top;\n",
       "    }\n",
       "</style>\n",
       "<table border=\"1\" class=\"dataframe\">\n",
       "  <thead>\n",
       "    <tr style=\"text-align: right;\">\n",
       "      <th></th>\n",
       "      <th>edit_name</th>\n",
       "      <th>fail_count</th>\n",
       "      <th>fields</th>\n",
       "      <th>row_ids</th>\n",
       "      <th>row_type</th>\n",
       "      <th>status</th>\n",
       "    </tr>\n",
       "  </thead>\n",
       "  <tbody>\n",
       "    <tr>\n",
       "      <th>21</th>\n",
       "      <td>v610_2</td>\n",
       "      <td>6.0</td>\n",
       "      <td>app_date</td>\n",
       "      <td>[Z6L3LVV89BUPEDZZZA0Y83RQYGF6MJ18ZFKAJEBYUCP08...</td>\n",
       "      <td>LAR</td>\n",
       "      <td>failed</td>\n",
       "    </tr>\n",
       "    <tr>\n",
       "      <th>26</th>\n",
       "      <td>v613_2</td>\n",
       "      <td>15.0</td>\n",
       "      <td>preapproval</td>\n",
       "      <td>[Z6L3LVV89BUPEDZZZA0Y8TBLWM2F1DMOYE9THAUVD3U55...</td>\n",
       "      <td>LAR</td>\n",
       "      <td>failed</td>\n",
       "    </tr>\n",
       "    <tr>\n",
       "      <th>120</th>\n",
       "      <td>v656_2</td>\n",
       "      <td>15.0</td>\n",
       "      <td>Type of Purchaser</td>\n",
       "      <td>[Z6L3LVV89BUPEDZZZA0Y8TBLWM2F1DMOYE9THAUVD3U55...</td>\n",
       "      <td>LAR</td>\n",
       "      <td>failed</td>\n",
       "    </tr>\n",
       "    <tr>\n",
       "      <th>125</th>\n",
       "      <td>v658_2</td>\n",
       "      <td>4.0</td>\n",
       "      <td>HOEPA</td>\n",
       "      <td>[Z6L3LVV89BUPEDZZZA0Y83RQYGF6MJ18ZFKAJEBYUCP08...</td>\n",
       "      <td>LAR</td>\n",
       "      <td>failed</td>\n",
       "    </tr>\n",
       "    <tr>\n",
       "      <th>146</th>\n",
       "      <td>v670_1</td>\n",
       "      <td>1.0</td>\n",
       "      <td>Denial Reason 1</td>\n",
       "      <td>[Z6L3LVV89BUPEDZZZA0YX4O2SUCE0F9QFG634T5NQ3E81]</td>\n",
       "      <td>LAR</td>\n",
       "      <td>failed</td>\n",
       "    </tr>\n",
       "    <tr>\n",
       "      <th>147</th>\n",
       "      <td>v670_2</td>\n",
       "      <td>1.0</td>\n",
       "      <td>Denial Reason 1</td>\n",
       "      <td>[Z6L3LVV89BUPEDZZZA0YX4O2SUCE0F9QFG634T5NQ3E81]</td>\n",
       "      <td>LAR</td>\n",
       "      <td>failed</td>\n",
       "    </tr>\n",
       "    <tr>\n",
       "      <th>210</th>\n",
       "      <td>v693_2</td>\n",
       "      <td>6.0</td>\n",
       "      <td>Applicaiton Channel</td>\n",
       "      <td>[Z6L3LVV89BUPEDZZZA0Y83RQYGF6MJ18ZFKAJEBYUCP08...</td>\n",
       "      <td>LAR</td>\n",
       "      <td>failed</td>\n",
       "    </tr>\n",
       "  </tbody>\n",
       "</table>\n",
       "</div>"
      ],
      "text/plain": [
       "    edit_name  fail_count               fields  \\\n",
       "21     v610_2         6.0             app_date   \n",
       "26     v613_2        15.0          preapproval   \n",
       "120    v656_2        15.0    Type of Purchaser   \n",
       "125    v658_2         4.0                HOEPA   \n",
       "146    v670_1         1.0      Denial Reason 1   \n",
       "147    v670_2         1.0      Denial Reason 1   \n",
       "210    v693_2         6.0  Applicaiton Channel   \n",
       "\n",
       "                                               row_ids row_type  status  \n",
       "21   [Z6L3LVV89BUPEDZZZA0Y83RQYGF6MJ18ZFKAJEBYUCP08...      LAR  failed  \n",
       "26   [Z6L3LVV89BUPEDZZZA0Y8TBLWM2F1DMOYE9THAUVD3U55...      LAR  failed  \n",
       "120  [Z6L3LVV89BUPEDZZZA0Y8TBLWM2F1DMOYE9THAUVD3U55...      LAR  failed  \n",
       "125  [Z6L3LVV89BUPEDZZZA0Y83RQYGF6MJ18ZFKAJEBYUCP08...      LAR  failed  \n",
       "146    [Z6L3LVV89BUPEDZZZA0YX4O2SUCE0F9QFG634T5NQ3E81]      LAR  failed  \n",
       "147    [Z6L3LVV89BUPEDZZZA0YX4O2SUCE0F9QFG634T5NQ3E81]      LAR  failed  \n",
       "210  [Z6L3LVV89BUPEDZZZA0Y83RQYGF6MJ18ZFKAJEBYUCP08...      LAR  failed  "
      ]
     },
     "execution_count": 5,
     "metadata": {},
     "output_type": "execute_result"
    }
   ],
   "source": [
    "res_df[res_df.status==\"failed\"]"
   ]
  },
  {
   "cell_type": "code",
   "execution_count": 6,
   "metadata": {},
   "outputs": [],
   "source": [
    "midpoint = len(lar_df)/2\n",
    "lar_df.co_app_eth_1[lar_df.index <= midpoint] = \"5\""
   ]
  },
  {
   "cell_type": "code",
   "execution_count": 56,
   "metadata": {},
   "outputs": [
    {
     "data": {
      "text/html": [
       "<div>\n",
       "<style>\n",
       "    .dataframe thead tr:only-child th {\n",
       "        text-align: right;\n",
       "    }\n",
       "\n",
       "    .dataframe thead th {\n",
       "        text-align: left;\n",
       "    }\n",
       "\n",
       "    .dataframe tbody tr th {\n",
       "        vertical-align: top;\n",
       "    }\n",
       "</style>\n",
       "<table border=\"1\" class=\"dataframe\">\n",
       "  <thead>\n",
       "    <tr style=\"text-align: right;\">\n",
       "      <th>field</th>\n",
       "      <th>record_id</th>\n",
       "      <th>lei</th>\n",
       "      <th>uli</th>\n",
       "      <th>app_date</th>\n",
       "      <th>loan_type</th>\n",
       "      <th>loan_purpose</th>\n",
       "      <th>preapproval</th>\n",
       "      <th>const_method</th>\n",
       "      <th>occ_type</th>\n",
       "      <th>loan_amount</th>\n",
       "      <th>...</th>\n",
       "      <th>aus_code_5</th>\n",
       "      <th>aus_result_1</th>\n",
       "      <th>aus_result_2</th>\n",
       "      <th>aus_result_3</th>\n",
       "      <th>aus_result_4</th>\n",
       "      <th>aus_result_5</th>\n",
       "      <th>aus_code_16</th>\n",
       "      <th>reverse_mortgage</th>\n",
       "      <th>open_end_credit</th>\n",
       "      <th>business_purpose</th>\n",
       "    </tr>\n",
       "  </thead>\n",
       "  <tbody>\n",
       "  </tbody>\n",
       "</table>\n",
       "<p>0 rows × 110 columns</p>\n",
       "</div>"
      ],
      "text/plain": [
       "Empty DataFrame\n",
       "Columns: [record_id, lei, uli, app_date, loan_type, loan_purpose, preapproval, const_method, occ_type, loan_amount, action_taken, action_date, street_address, city, state, zip_code, county, tract, app_eth_1, app_eth_2, app_eth_3, app_eth_4, app_eth_5, app_eth_free, co_app_eth_1, co_app_eth_2, co_app_eth_3, co_app_eth_4, co_app_eth_5, co_app_eth_free, app_eth_basis, co_app_eth_basis, app_race_1, app_race_2, app_race_3, app_race_4, app_race_5, app_race_native_text, app_race_asian_text, app_race_islander_text, co_app_race_1, co_app_race_2, co_app_race_3, co_app_race_4, co_app_race_5, co_app_race_native_text, co_app_race_asian_text, co_app_race_islander_text, app_race_basis, co_app_race_basis, app_sex, co_app_sex, app_sex_basis, co_app_sex_basis, app_age, co_app_age, income, purchaser_type, rate_spread, hoepa, lien, app_credit_score, co_app_credit_score, app_score_name, app_score_code_8, co_app_score_name, co_app_score_code_8, denial_1, denial_2, denial_3, denial_4, denial_code_9, loan_costs, points_fees, origination_fee, discount_points, lender_credits, interest_rate, prepayment_penalty, dti, cltv, loan_term, intro_rate, balloon, int_only_pmts, neg_amort, non_amort_features, property_value, manufactured_type, manufactured_interest, total_units, affordable_units, app_submission, initially_payable, mlo_id, aus_1, aus_2, aus_3, aus_4, aus_5, ...]\n",
       "Index: []\n",
       "\n",
       "[0 rows x 110 columns]"
      ]
     },
     "execution_count": 56,
     "metadata": {},
     "output_type": "execute_result"
    }
   ],
   "source": [
    "lar_df[lar_df.points_fees!=\"NA\"]"
   ]
  },
  {
   "cell_type": "code",
   "execution_count": 58,
   "metadata": {},
   "outputs": [
    {
     "ename": "AttributeError",
     "evalue": "'DataFrame' object has no attribute 'points_and_fees'",
     "output_type": "error",
     "traceback": [
      "\u001b[0;31m---------------------------------------------------------------------------\u001b[0m",
      "\u001b[0;31mAttributeError\u001b[0m                            Traceback (most recent call last)",
      "\u001b[0;32m<ipython-input-58-51f48d565a92>\u001b[0m in \u001b[0;36m<module>\u001b[0;34m()\u001b[0m\n\u001b[0;32m----> 1\u001b[0;31m \u001b[0mlar_df\u001b[0m\u001b[0;34m.\u001b[0m\u001b[0mpoints_and_fees\u001b[0m\u001b[0;34m\u001b[0m\u001b[0m\n\u001b[0m",
      "\u001b[0;32m~/homebrew/lib/python3.6/site-packages/pandas/core/generic.py\u001b[0m in \u001b[0;36m__getattr__\u001b[0;34m(self, name)\u001b[0m\n\u001b[1;32m   3079\u001b[0m             \u001b[0;32mif\u001b[0m \u001b[0mname\u001b[0m \u001b[0;32min\u001b[0m \u001b[0mself\u001b[0m\u001b[0;34m.\u001b[0m\u001b[0m_info_axis\u001b[0m\u001b[0;34m:\u001b[0m\u001b[0;34m\u001b[0m\u001b[0m\n\u001b[1;32m   3080\u001b[0m                 \u001b[0;32mreturn\u001b[0m \u001b[0mself\u001b[0m\u001b[0;34m[\u001b[0m\u001b[0mname\u001b[0m\u001b[0;34m]\u001b[0m\u001b[0;34m\u001b[0m\u001b[0m\n\u001b[0;32m-> 3081\u001b[0;31m             \u001b[0;32mreturn\u001b[0m \u001b[0mobject\u001b[0m\u001b[0;34m.\u001b[0m\u001b[0m__getattribute__\u001b[0m\u001b[0;34m(\u001b[0m\u001b[0mself\u001b[0m\u001b[0;34m,\u001b[0m \u001b[0mname\u001b[0m\u001b[0;34m)\u001b[0m\u001b[0;34m\u001b[0m\u001b[0m\n\u001b[0m\u001b[1;32m   3082\u001b[0m \u001b[0;34m\u001b[0m\u001b[0m\n\u001b[1;32m   3083\u001b[0m     \u001b[0;32mdef\u001b[0m \u001b[0m__setattr__\u001b[0m\u001b[0;34m(\u001b[0m\u001b[0mself\u001b[0m\u001b[0;34m,\u001b[0m \u001b[0mname\u001b[0m\u001b[0;34m,\u001b[0m \u001b[0mvalue\u001b[0m\u001b[0;34m)\u001b[0m\u001b[0;34m:\u001b[0m\u001b[0;34m\u001b[0m\u001b[0m\n",
      "\u001b[0;31mAttributeError\u001b[0m: 'DataFrame' object has no attribute 'points_and_fees'"
     ]
    }
   ],
   "source": [
    "lar_df.points_and_fees"
   ]
  },
  {
   "cell_type": "code",
   "execution_count": 104,
   "metadata": {},
   "outputs": [
    {
     "data": {
      "text/plain": [
       "0     1\n",
       "1     1\n",
       "2     1\n",
       "3     1\n",
       "4     2\n",
       "5     1\n",
       "6     1\n",
       "7     1\n",
       "8     2\n",
       "9     2\n",
       "10    1\n",
       "11    2\n",
       "12    2\n",
       "13    1\n",
       "14    2\n",
       "Name: balloon, dtype: object"
      ]
     },
     "execution_count": 104,
     "metadata": {},
     "output_type": "execute_result"
    }
   ],
   "source": [
    "lar_df.balloon"
   ]
  },
  {
   "cell_type": "code",
   "execution_count": null,
   "metadata": {},
   "outputs": [],
   "source": []
  }
 ],
 "metadata": {
  "kernelspec": {
   "display_name": "Python 3",
   "language": "python",
   "name": "python3"
  }
 },
 "nbformat": 4,
 "nbformat_minor": 2
}
