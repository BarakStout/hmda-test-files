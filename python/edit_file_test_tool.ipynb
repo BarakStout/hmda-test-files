{
 "cells": [
  {
   "cell_type": "code",
   "execution_count": 1,
   "metadata": {},
   "outputs": [],
   "source": [
    "import yaml\n",
    "import json\n",
    "import pandas as pd\n",
    "import os\n",
    "from os import listdir\n",
    "from os.path import isfile, join\n",
    "\n",
    "from rules_engine import rules_engine\n",
    "import utils\n",
    "\n",
    "pd.options.display.max_columns = 999"
   ]
  },
  {
   "cell_type": "code",
   "execution_count": 2,
   "metadata": {},
   "outputs": [],
   "source": [
    "with open('config.yaml') as f:\n",
    "\t# use safe_load instead load\n",
    "\tdata_map = yaml.safe_load(f)\n",
    "file_length = data_map['file_length']['value']\n"
   ]
  },
  {
   "cell_type": "code",
   "execution_count": 3,
   "metadata": {},
   "outputs": [
    {
     "name": "stdout",
     "output_type": "stream",
     "text": [
      "/Users/roellk/hmda/hmda-test-files/python\r\n"
     ]
    }
   ],
   "source": [
    "use_cols = ['name', 'metDivName', 'countyFips', 'geoIdMsa', 'metDivFp', 'smallCounty', 'tracts', 'stateCode']\n",
    "cbsa_cols = ['name', 'metDivName', 'state', 'countyFips', 'county', 'tracts','geoIdMsa', 'metDivFp', 'smallCounty', \n",
    "\t\t\t 'stateCode', 'tractDecimal']\n",
    "cbsas = pd.read_csv('../dependencies/tract_to_cbsa_2015.txt', usecols=use_cols, delimiter='|', \n",
    "\t\t\t\t\theader=None, names=cbsa_cols, dtype=str) #load tract to CBSA data from platform file\n",
    "cbsas[\"tractFips\"] = cbsas.countyFips + cbsas.tracts\n",
    "counties = list(cbsas.countyFips)\n",
    "tracts = list(cbsas.tractFips)\n",
    "small_counties = list(cbsas.countyFips[cbsas.smallCounty==\"1\"])\n",
    "#load schemas for LAR and transmittal sheet\n",
    "#schemas contain valid enumerations, including NA values, for each field in the dataset\n",
    "lar_schema_df = pd.DataFrame(json.load(open(\"../schemas/lar_schema.json\", \"r\")))\n",
    "ts_schema_df = pd.DataFrame(json.load(open(\"../schemas/ts_schema.json\", \"r\")))\n",
    "!pwd"
   ]
  },
  {
   "cell_type": "code",
   "execution_count": 4,
   "metadata": {},
   "outputs": [
    {
     "data": {
      "text/html": [
       "<div>\n",
       "<style scoped>\n",
       "    .dataframe tbody tr th:only-of-type {\n",
       "        vertical-align: middle;\n",
       "    }\n",
       "\n",
       "    .dataframe tbody tr th {\n",
       "        vertical-align: top;\n",
       "    }\n",
       "\n",
       "    .dataframe thead th {\n",
       "        text-align: right;\n",
       "    }\n",
       "</style>\n",
       "<table border=\"1\" class=\"dataframe\">\n",
       "  <thead>\n",
       "    <tr style=\"text-align: right;\">\n",
       "      <th></th>\n",
       "      <th>edit_name</th>\n",
       "      <th>fail_count</th>\n",
       "      <th>fields</th>\n",
       "      <th>row_ids</th>\n",
       "      <th>row_type</th>\n",
       "      <th>status</th>\n",
       "    </tr>\n",
       "  </thead>\n",
       "  <tbody>\n",
       "    <tr>\n",
       "      <th>4</th>\n",
       "      <td>q604</td>\n",
       "      <td>100.0</td>\n",
       "      <td>State/County</td>\n",
       "      <td>[73H30D6WRLOIRTT00I1UHWSIKMC2OQ6PBTBNGO38TAU17...</td>\n",
       "      <td>LAR</td>\n",
       "      <td>failed</td>\n",
       "    </tr>\n",
       "  </tbody>\n",
       "</table>\n",
       "</div>"
      ],
      "text/plain": [
       "  edit_name  fail_count        fields  \\\n",
       "4      q604       100.0  State/County   \n",
       "\n",
       "                                             row_ids row_type  status  \n",
       "4  [73H30D6WRLOIRTT00I1UHWSIKMC2OQ6PBTBNGO38TAU17...      LAR  failed  "
      ]
     },
     "execution_count": 4,
     "metadata": {},
     "output_type": "execute_result"
    }
   ],
   "source": [
    "path = \"../edits_files/quality/\"\n",
    "file = \"q604.txt\"\n",
    "#lar validator checks a dataframe and returns a JSON with generate_error_files\n",
    "checker = rules_engine(lar_schema=lar_schema_df, ts_schema=ts_schema_df, cbsa_data=cbsas)#tracts=tracts, \n",
    "#                       counties=counties, small_counties=small_counties) \n",
    "#load data to checker\n",
    "ts_df, lar_df = utils.read_data_file(path=path, data_file=file)\n",
    "checker.load_data_frames(ts_df, lar_df)\n",
    "for func in dir(checker):\n",
    "    if func[:1] in (\"s\", \"v\", \"q\") and func[1:4].isdigit()==True:\n",
    "        #print(\"applying:\", func)\n",
    "        getattr(checker, func)()\n",
    "res_df = pd.DataFrame(checker.results)\n",
    "res_df[(res_df.status==\"failed\")&(res_df.edit_name==file[:-4])]"
   ]
  },
  {
   "cell_type": "code",
   "execution_count": 5,
   "metadata": {},
   "outputs": [],
   "source": [
    "#get all edit test files in single list\n",
    "val_path = \"../edits_files/validity/\"\n",
    "syn_path = \"../edits_files/syntax/\"\n",
    "val_files = [f for f in listdir(val_path) if isfile(join(val_path, f)) and f[0]==\"v\"] #get list of only files\n",
    "syn_files = [f for f in listdir(syn_path) if isfile(join(syn_path, f)) and f[0]==\"s\"]"
   ]
  },
  {
   "cell_type": "code",
   "execution_count": null,
   "metadata": {},
   "outputs": [
    {
     "name": "stdout",
     "output_type": "stream",
     "text": [
      "v600.txt\n",
      "file is good\n",
      "\n",
      "v601_1.txt\n",
      "file is good\n",
      "\n",
      "v601_2.txt\n",
      "file is good\n",
      "\n",
      "v601_3.txt\n",
      "file is good\n",
      "\n",
      "v601_4.txt\n",
      "file is good\n",
      "\n",
      "v602.txt\n"
     ]
    }
   ],
   "source": [
    "#check validity test files for error rate\n",
    "for file in val_files:\n",
    "    print(file)\n",
    "    #lar validator checks a dataframe and returns a JSON with generate_error_files\n",
    "    checker = rules_engine(lar_schema=lar_schema_df, ts_schema=ts_schema_df, cbsa_data=cbsas)#tracts=tracts, counties=counties)\n",
    "    #load data to checker\n",
    "    ts_df, lar_df = utils.read_data_file(path=val_path, data_file=file)\n",
    "    checker.load_data_frames(ts_df, lar_df)\n",
    "    for func in dir(checker):\n",
    "        if func[:1] in (\"s\", \"v\") and func[1:4].isdigit()==True:\n",
    "            getattr(checker, func)()\n",
    "    res_df = pd.DataFrame(checker.results)\n",
    "    res_df = res_df[(res_df.edit_name==file[:-4])] #set res_df for only the edit in the file name\n",
    "    if res_df.row_type.iloc[0]==\"TS\" and res_df.status.iloc[0]==\"failed\":\n",
    "        print(\"file is good\")\n",
    "        \n",
    "    if res_df.row_type[(res_df.edit_name==file[:-4])].iloc[0] == \"LAR\" and \\\n",
    "       res_df.fail_count[(res_df.edit_name==file[:-4])].iloc[0] != file_length:\n",
    "        print(\"WARNING BOOOOOP\", len(res_df.fail_count[res_df.edit_name==file[:-4]]))\n",
    "    elif res_df.row_type[(res_df.edit_name==file[:-4])].iloc[0] == \"LAR\" and res_df.fail_count[(res_df.edit_name==file[:-4])].iloc[0] == file_length:\n",
    "        print(\"file is good\")\n",
    "    print()"
   ]
  },
  {
   "cell_type": "code",
   "execution_count": null,
   "metadata": {},
   "outputs": [],
   "source": [
    "#check syntax test files for error rate\n",
    "for file in syn_files:\n",
    "    print(file)\n",
    "    #lar validator checks a dataframe and returns a JSON with generate_error_files\n",
    "    checker = rules_engine(lar_schema=lar_schema_df, ts_schema=ts_schema_df, tracts=tracts, counties=counties)\n",
    "    #load data to checker\n",
    "    ts_df, lar_df = utils.read_data_file(path=syn_path, data_file=file)\n",
    "    checker.load_data_frames(ts_df, lar_df)\n",
    "    for func in dir(checker):\n",
    "        if func[:1] in (\"s\", \"v\") and func[1:4].isdigit()==True:\n",
    "            getattr(checker, func)()\n",
    "    res_df = pd.DataFrame(checker.results)\n",
    "    res_df = res_df[(res_df.edit_name==file[:-4])] #set res_df for only the edit in the file name\n",
    "    \n",
    "    if res_df.row_type.iloc[0]==\"TS\" and res_df.status.iloc[0]==\"failed\":\n",
    "        print(\"file is good\")\n",
    "    if res_df.row_type[(res_df.edit_name==file[:-4])].iloc[0] == \"LAR\":\n",
    "        fail_count = res_df.fail_count[(res_df.edit_name==file[:-4])].iloc[0]\n",
    "    \n",
    "    if row_type == \"LAR\" and int(fail_count) != file_length:\n",
    "        print(\"WARNING BOOOOOP\\n\", \"*\"*100)\n",
    "    else:\n",
    "        print(\"file is good\")\n",
    "    print()"
   ]
  },
  {
   "cell_type": "code",
   "execution_count": null,
   "metadata": {},
   "outputs": [],
   "source": [
    "#load CBSA data for geography testing edits\n",
    "use_cols = ['name', 'metDivName', 'countyFips', 'geoIdMsa', 'metDivFp', 'smallCounty', 'tracts']\n",
    "cbsa_cols = ['name', 'metDivName', 'state', 'countyFips', 'county', 'tracts','geoIdMsa', 'metDivFp', 'smallCounty', \n",
    "'stateCode', 'tractDecimal']\n",
    "cbsa_data = pd.read_csv('../dependencies/tract_to_cbsa_2015.txt', usecols=use_cols, delimiter='|', \n",
    "header=None, names=cbsa_cols, dtype=object) #load tract to CBSA data from platform file\n"
   ]
  },
  {
   "cell_type": "code",
   "execution_count": null,
   "metadata": {},
   "outputs": [],
   "source": [
    "list(cbsa_data.countyFips[cbsa_data.smallCounty!=\"1\"])"
   ]
  },
  {
   "cell_type": "code",
   "execution_count": null,
   "metadata": {},
   "outputs": [],
   "source": [
    "big_counties = cbsas.countyFips[(cbsas.smallCounty!=\"1\")]\n",
    "small_counties = cbsas.countyFips[cbsas.smallCounty==\"1\"]"
   ]
  },
  {
   "cell_type": "code",
   "execution_count": null,
   "metadata": {},
   "outputs": [],
   "source": [
    "for county in big_counties:\n",
    "    if county in small_counties:\n",
    "        print('boop')"
   ]
  },
  {
   "cell_type": "code",
   "execution_count": null,
   "metadata": {},
   "outputs": [],
   "source": [
    "lar_df[lar_df.county.isin(small_counties)]"
   ]
  },
  {
   "cell_type": "code",
   "execution_count": null,
   "metadata": {},
   "outputs": [],
   "source": [
    "'72133' in cbsas.countyFips"
   ]
  },
  {
   "cell_type": "code",
   "execution_count": null,
   "metadata": {},
   "outputs": [],
   "source": [
    "#several counties are not in the county fips list in cbsa data\n",
    "#these are not showing as fails because they cannot be in small counties"
   ]
  },
  {
   "cell_type": "code",
   "execution_count": null,
   "metadata": {},
   "outputs": [],
   "source": []
  }
 ],
 "metadata": {
  "kernelspec": {
   "display_name": "Python 3",
   "language": "python",
   "name": "python3"
  },
  "language_info": {
   "codemirror_mode": {
    "name": "ipython",
    "version": 3
   },
   "file_extension": ".py",
   "mimetype": "text/x-python",
   "name": "python",
   "nbconvert_exporter": "python",
   "pygments_lexer": "ipython3",
   "version": "3.6.5"
  }
 },
 "nbformat": 4,
 "nbformat_minor": 2
}
