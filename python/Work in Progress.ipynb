{
 "cells": [
  {
   "cell_type": "code",
   "execution_count": 4,
   "metadata": {},
   "outputs": [],
   "source": [
    "import json\n",
    "import os\n",
    "import pandas as pd\n",
    "import random\n",
    "import string\n",
    "import time\n",
    "import yaml"
   ]
  },
  {
   "cell_type": "code",
   "execution_count": 5,
   "metadata": {},
   "outputs": [],
   "source": [
    "def char_string_gen(length):\n",
    "    return ''.join(random.choice(string.ascii_uppercase + string.digits) for _ in range(length))\n",
    "\n",
    "def check_digit_gen(valid=True, ULI=None):\n",
    "\t\t\"\"\"Generates a check digit for a ULI in accordance with\n",
    "\t\thttps://www.consumerfinance.gov/eregulations/diff/1003-C/2015-26607_20170101/2015-26607_20180101?from_version=2015-26607_20170101#1003-C-1\"\"\"\n",
    "\t\tif ULI is None:\n",
    "\t\t\traise ValueError(\"a ULI must be supplied\")\n",
    "\t\t#GENERATING A CHECK DIGIT\n",
    "\t\t#Step 1: Starting with the leftmost character in the string that consists of the combination of the\n",
    "\t\t#Legal Entity Identifier (LEI) pursuant to § 1003.4(a)(1)(i)(A) and the additional characters identifying the\n",
    "\t\t#covered loan or application pursuant to § 1003.4(a)(1)(i)(B), replace each alphabetic character with numbers\n",
    "\t\t#in accordance with Table I below to obtain all numeric values in the string.\n",
    "\t\t\n",
    "\t\t\n",
    "\t\t#1: convert letters to digits\n",
    "\t\t#2: append '00' to right of string\n",
    "\t\t#3:Apply the mathematical function mod=(n, 97) where n= the number obtained in step 2 above and 97 is the divisor.\n",
    "\t\t#3a: Alternatively, to calculate without using the modulus operator, divide the numbers in step 2 above by 97.\n",
    "\t\t#   Truncate the remainder to three digits and multiply it by .97. Round the result to the nearest whole number.\n",
    "\t\t#4: Subtract the result in step 3 from 98. If the result is one digit, add a leading 0 to make it two digits.\n",
    "\t\t#5: The two digits in the result from step 4 is the check digit. Append the resulting check digit to the\n",
    "\t\t#   rightmost position in the combined string of characters described in step 1 above to generate the ULI.\n",
    "\t\t\n",
    "\t\t#digit_vals contains the conversion of numbers to letters\n",
    "\t\tdigit_vals = {\n",
    "\t\t'A':10, 'H':17,'O':24,'V':31,'B':11,'I':18,'P':25,'W':32,'C':12,'J':19,'Q':26,'X':33,'D':13,'K':20,'R':27,'Y':34,\n",
    "\t\t'E':14,'L':21,'S':28,'Z':35,'F':15,'M':22,'T':29,'G':16,'N':23,'U':30}\n",
    "\t\t\n",
    "\t\tuli_chars = list(ULI)\n",
    "\t\tmod_uli_chars = []\n",
    "\t\tfor char in uli_chars:\n",
    "\t\t\tif char.upper() in digit_vals.keys():\n",
    "\t\t\t\tmod_uli_chars.append(str(digit_vals[char.upper()]))\n",
    "\t\t\telse:\n",
    "\t\t\t\tmod_uli_chars.append(char)\n",
    "\t\tmod_uli_chars.append('00') \n",
    "\t\tdigit_base = int(\"\".join(mod_uli_chars))\n",
    "\t\tdigit_modulo = digit_base % 97\n",
    "\t\tcheck_digit = 98 - digit_modulo\n",
    "\n",
    "\t\tif valid:\n",
    "\t\t\treturn str(check_digit).zfill(2) #left pad check digit with 0 if length is less than 2\n",
    "\t\telse:\n",
    "\t\t\treturn str(check_digit+6).zfill(2)[:2] #return a bad check digit (used in edit testing)\n"
   ]
  },
  {
   "cell_type": "code",
   "execution_count": 6,
   "metadata": {},
   "outputs": [
    {
     "name": "stdout",
     "output_type": "stream",
     "text": [
      "{'lei': ['B90YWS6AFX2LGWOXJ1LD', 'B90YWS6AFX2LGWOXJ1LD', 'B90YWS6AFX2LGWOXJ1LD', 'B90YWS6AFX2LGWOXJ1LD', 'B90YWS6AFX2LGWOXJ1LD', 'B90YWS6AFX2LGWOXJ1LD', 'B90YWS6AFX2LGWOXJ1LD', 'B90YWS6AFX2LGWOXJ1LD', 'B90YWS6AFX2LGWOXJ1LD', 'B90YWS6AFX2LGWOXJ1LD']}\n",
      "                    lei\n",
      "0  B90YWS6AFX2LGWOXJ1LD\n",
      "1  B90YWS6AFX2LGWOXJ1LD\n",
      "2  B90YWS6AFX2LGWOXJ1LD\n",
      "3  B90YWS6AFX2LGWOXJ1LD\n",
      "4  B90YWS6AFX2LGWOXJ1LD\n",
      "5  B90YWS6AFX2LGWOXJ1LD\n",
      "6  B90YWS6AFX2LGWOXJ1LD\n",
      "7  B90YWS6AFX2LGWOXJ1LD\n",
      "8  B90YWS6AFX2LGWOXJ1LD\n",
      "9  B90YWS6AFX2LGWOXJ1LD\n",
      "                    lei                                          uli\n",
      "0  B90YWS6AFX2LGWOXJ1LD  B90YWS6AFX2LGWOXJ1LD1XKJMXNQVWCJ0TFSTD8BHFO\n",
      "1  B90YWS6AFX2LGWOXJ1LD  B90YWS6AFX2LGWOXJ1LD1XKJMXNQVWCJ0TFSTD8BHFO\n",
      "2  B90YWS6AFX2LGWOXJ1LD  B90YWS6AFX2LGWOXJ1LD1XKJMXNQVWCJ0TFSTD8BHFO\n",
      "3  B90YWS6AFX2LGWOXJ1LD  B90YWS6AFX2LGWOXJ1LD1XKJMXNQVWCJ0TFSTD8BHFO\n",
      "4  B90YWS6AFX2LGWOXJ1LD  B90YWS6AFX2LGWOXJ1LD1XKJMXNQVWCJ0TFSTD8BHFO\n",
      "5  B90YWS6AFX2LGWOXJ1LD  B90YWS6AFX2LGWOXJ1LD1XKJMXNQVWCJ0TFSTD8BHFO\n",
      "6  B90YWS6AFX2LGWOXJ1LD  B90YWS6AFX2LGWOXJ1LD1XKJMXNQVWCJ0TFSTD8BHFO\n",
      "7  B90YWS6AFX2LGWOXJ1LD  B90YWS6AFX2LGWOXJ1LD1XKJMXNQVWCJ0TFSTD8BHFO\n",
      "8  B90YWS6AFX2LGWOXJ1LD  B90YWS6AFX2LGWOXJ1LD1XKJMXNQVWCJ0TFSTD8BHFO\n",
      "9  B90YWS6AFX2LGWOXJ1LD  B90YWS6AFX2LGWOXJ1LD1XKJMXNQVWCJ0TFSTD8BHFO\n"
     ]
    },
    {
     "ename": "ValueError",
     "evalue": "invalid literal for int() with base 10: 'B90YWS6AFX2LGWOXJ1LD1XKJMXNQVWCJ0TFSTD8BHFOB90YWS6AFX2LGWOXJ1LD1XKJMXNQVWCJ0TFSTD8BHFOB90YWS6AFX2LGWOXJ1LD1XKJMXNQVWCJ0TFSTD8BHFOB90YWS6AFX2LGWOXJ1LD1XKJMXNQVWCJ0TFSTD8BHFOB90YWS6AFX2LGWOXJ1LD1XKJMXN",
     "output_type": "error",
     "traceback": [
      "\u001b[0;31m---------------------------------------------------------------------------\u001b[0m",
      "\u001b[0;31mValueError\u001b[0m                                Traceback (most recent call last)",
      "\u001b[0;32m<ipython-input-6-0a995e95944e>\u001b[0m in \u001b[0;36m<module>\u001b[0;34m()\u001b[0m\n\u001b[1;32m      5\u001b[0m \u001b[0mvalid_lar_row\u001b[0m\u001b[0;34m[\u001b[0m\u001b[0;34m\"uli\"\u001b[0m\u001b[0;34m]\u001b[0m \u001b[0;34m=\u001b[0m \u001b[0mvalid_lar_row\u001b[0m\u001b[0;34m[\u001b[0m\u001b[0;34m'lei'\u001b[0m\u001b[0;34m]\u001b[0m \u001b[0;34m+\u001b[0m \u001b[0mchar_string_gen\u001b[0m\u001b[0;34m(\u001b[0m\u001b[0;36m23\u001b[0m\u001b[0;34m)\u001b[0m\u001b[0;34m\u001b[0m\u001b[0m\n\u001b[1;32m      6\u001b[0m \u001b[0mprint\u001b[0m\u001b[0;34m(\u001b[0m\u001b[0mvalid_lar_row\u001b[0m\u001b[0;34m)\u001b[0m\u001b[0;34m\u001b[0m\u001b[0m\n\u001b[0;32m----> 7\u001b[0;31m \u001b[0mvalid_lar_row\u001b[0m\u001b[0;34m[\u001b[0m\u001b[0;34m\"uli\"\u001b[0m\u001b[0;34m]\u001b[0m \u001b[0;34m=\u001b[0m \u001b[0mvalid_lar_row\u001b[0m\u001b[0;34m[\u001b[0m\u001b[0;34m\"uli\"\u001b[0m\u001b[0;34m]\u001b[0m \u001b[0;34m+\u001b[0m \u001b[0mcheck_digit_gen\u001b[0m\u001b[0;34m(\u001b[0m\u001b[0mULI\u001b[0m\u001b[0;34m=\u001b[0m\u001b[0mvalid_lar_row\u001b[0m\u001b[0;34m[\u001b[0m\u001b[0;34m\"uli\"\u001b[0m\u001b[0;34m]\u001b[0m\u001b[0;34m)\u001b[0m\u001b[0;34m\u001b[0m\u001b[0m\n\u001b[0m\u001b[1;32m      8\u001b[0m \u001b[0mprint\u001b[0m\u001b[0;34m(\u001b[0m\u001b[0mvalid_lar_row\u001b[0m\u001b[0;34m)\u001b[0m\u001b[0;34m\u001b[0m\u001b[0m\n\u001b[1;32m      9\u001b[0m \u001b[0mvalid_lar_row\u001b[0m\u001b[0;34m\u001b[0m\u001b[0m\n",
      "\u001b[0;32m<ipython-input-5-d5045e0ecf5f>\u001b[0m in \u001b[0;36mcheck_digit_gen\u001b[0;34m(valid, ULI)\u001b[0m\n\u001b[1;32m     36\u001b[0m                                 \u001b[0mmod_uli_chars\u001b[0m\u001b[0;34m.\u001b[0m\u001b[0mappend\u001b[0m\u001b[0;34m(\u001b[0m\u001b[0mchar\u001b[0m\u001b[0;34m)\u001b[0m\u001b[0;34m\u001b[0m\u001b[0m\n\u001b[1;32m     37\u001b[0m                 \u001b[0mmod_uli_chars\u001b[0m\u001b[0;34m.\u001b[0m\u001b[0mappend\u001b[0m\u001b[0;34m(\u001b[0m\u001b[0;34m'00'\u001b[0m\u001b[0;34m)\u001b[0m\u001b[0;34m\u001b[0m\u001b[0m\n\u001b[0;32m---> 38\u001b[0;31m                 \u001b[0mdigit_base\u001b[0m \u001b[0;34m=\u001b[0m \u001b[0mint\u001b[0m\u001b[0;34m(\u001b[0m\u001b[0;34m\"\"\u001b[0m\u001b[0;34m.\u001b[0m\u001b[0mjoin\u001b[0m\u001b[0;34m(\u001b[0m\u001b[0mmod_uli_chars\u001b[0m\u001b[0;34m)\u001b[0m\u001b[0;34m)\u001b[0m\u001b[0;34m\u001b[0m\u001b[0m\n\u001b[0m\u001b[1;32m     39\u001b[0m                 \u001b[0mdigit_modulo\u001b[0m \u001b[0;34m=\u001b[0m \u001b[0mdigit_base\u001b[0m \u001b[0;34m%\u001b[0m \u001b[0;36m97\u001b[0m\u001b[0;34m\u001b[0m\u001b[0m\n\u001b[1;32m     40\u001b[0m                 \u001b[0mcheck_digit\u001b[0m \u001b[0;34m=\u001b[0m \u001b[0;36m98\u001b[0m \u001b[0;34m-\u001b[0m \u001b[0mdigit_modulo\u001b[0m\u001b[0;34m\u001b[0m\u001b[0m\n",
      "\u001b[0;31mValueError\u001b[0m: invalid literal for int() with base 10: 'B90YWS6AFX2LGWOXJ1LD1XKJMXNQVWCJ0TFSTD8BHFOB90YWS6AFX2LGWOXJ1LD1XKJMXNQVWCJ0TFSTD8BHFOB90YWS6AFX2LGWOXJ1LD1XKJMXNQVWCJ0TFSTD8BHFOB90YWS6AFX2LGWOXJ1LD1XKJMXNQVWCJ0TFSTD8BHFOB90YWS6AFX2LGWOXJ1LD1XKJMXN"
     ]
    }
   ],
   "source": [
    "lei = {'lei':list(['B90YWS6AFX2LGWOXJ1LD']*10)}\n",
    "print(lei)\n",
    "valid_lar_row = pd.DataFrame(lei)\n",
    "print(valid_lar_row)\n",
    "valid_lar_row[\"uli\"] = valid_lar_row['lei'] + char_string_gen(23)\n",
    "print(valid_lar_row)\n",
    "valid_lar_row[\"uli\"] = valid_lar_row[\"uli\"] + check_digit_gen(ULI=valid_lar_row[\"uli\"])\n",
    "print(valid_lar_row)\n",
    "valid_lar_row"
   ]
  },
  {
   "cell_type": "code",
   "execution_count": null,
   "metadata": {},
   "outputs": [],
   "source": []
  }
 ],
 "metadata": {
  "kernelspec": {
   "display_name": "Python 3",
   "language": "python",
   "name": "python3"
  },
  "language_info": {
   "codemirror_mode": {
    "name": "ipython",
    "version": 3
   },
   "file_extension": ".py",
   "mimetype": "text/x-python",
   "name": "python",
   "nbconvert_exporter": "python",
   "pygments_lexer": "ipython3",
   "version": "3.7.0"
  }
 },
 "nbformat": 4,
 "nbformat_minor": 2
}
