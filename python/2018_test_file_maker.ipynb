{
 "cells": [
  {
   "cell_type": "code",
   "execution_count": null,
   "metadata": {},
   "outputs": [],
   "source": [
    "#2018 HMDA Edit Testing File Generator\n",
    "from collections import OrderedDict\n",
    "from io import StringIO\n",
    "import json\n",
    "import os\n",
    "import pandas as pd\n",
    "import random\n",
    "\n",
    "#custom imports\n",
    "import lar_constraints\n",
    "import lar_generator\n",
    "from rules_engine import rules_engine\n"
   ]
  },
  {
   "cell_type": "code",
   "execution_count": null,
   "metadata": {
    "collapsed": true
   },
   "outputs": [],
   "source": [
    "#2018 Filing Instruction Guide: https://www.consumerfinance.gov/data-research/hmda/static/for-filers/2018/2018-HMDA-FIG.pdf\n",
    "\n",
    "use_cols = ['name', 'metDivName', 'countyFips', 'geoIdMsa', 'metDivFp', 'smallCounty', 'tracts']\n",
    "cbsa_cols = ['name', 'metDivName', 'state', 'countyFips', 'county', 'tracts','geoIdMsa', 'metDivFp', 'smallCounty', \n",
    "             'stateCode', 'tractDecimal']\n",
    "cbsas = pd.read_csv('../dependancies/tract_to_cbsa_2015.txt', usecols=use_cols, delimiter='|', \n",
    "                    header=None, names=cbsa_cols, dtype=str) #load tract to CBSA data from platform file\n",
    "cbsas[\"tractFips\"] = cbsas.countyFips + cbsas.tracts\n",
    "counties = list(cbsas.countyFips)\n",
    "tracts = list(cbsas.tractFips)"
   ]
  },
  {
   "cell_type": "code",
   "execution_count": null,
   "metadata": {
    "collapsed": true
   },
   "outputs": [],
   "source": [
    "#load schemas for LAR and transmittal sheet\n",
    "lar_schema_df = pd.DataFrame(json.load(open(\"../schemas/lar_schema.json\", \"r\")))\n",
    "ts_schema_df = pd.DataFrame(json.load(open(\"../schemas/ts_schema.json\", \"r\")))"
   ]
  },
  {
   "cell_type": "code",
   "execution_count": null,
   "metadata": {},
   "outputs": [],
   "source": [
    "lar_gen = lar_generator.lar_gen(lar_schema_df, ts_schema_df, counties=counties, tracts=tracts) #instantiate generator\n",
    "lar_const = lar_constraints.lar_constraints(counties=counties, tracts=tracts)#instantiate constraints\n",
    "validator = rules_engine(lar_schema_df, ts_schema_df) #instantiate edits rules engine"
   ]
  },
  {
   "cell_type": "code",
   "execution_count": null,
   "metadata": {},
   "outputs": [],
   "source": [
    "#run constraint functions on row\n",
    "file_length = 5 #set number of rows in test file\n",
    "first = True\n",
    "lei = None\n",
    "for i in range(0, file_length):\n",
    "    if lei:\n",
    "        row= lar_gen.make_row(lei=lei)\n",
    "    else:\n",
    "        row = lar_gen.make_row() #create new row\n",
    "    lei = row[\"lei\"]\n",
    "    diff = [1] #initialize diff for loop\n",
    "    while len(diff) >0:\n",
    "        row_base = row.copy() #copy row to enable diff\n",
    "        #apply constraint functions to LAR row\n",
    "        for func in lar_const.constraint_funcs: \n",
    "            row = getattr(lar_const, func)(row)\n",
    "            #convert initial and copied rows to sets for diff\n",
    "            initial_row = set(row_base.items())\n",
    "            changed_row = set(row.items())\n",
    "            diff = (initial_row - changed_row)\n",
    "#            print(len(initial_row), len(changed_row)) #check number of fields, should be 110\n",
    "            #show readout of number of changes made to new LAR row\n",
    "            #print(\"changes from {func}: {vals}\".format(func=str(func), vals=len(diff)))\n",
    "    \n",
    "    #create first row of dataframe\n",
    "    if first:\n",
    "        lar_frame = pd.DataFrame(row, index=[1])\n",
    "        first = False\n",
    "    #add additional rows to dataframe\n",
    "    else:\n",
    "        #print(\"concating\")\n",
    "        new_lar = pd.DataFrame(row, index=[1])\n",
    "        lar_frame = pd.concat([lar_frame, new_lar], axis=0)\n",
    "lar_frame.reset_index(inplace=True) #reset index\n",
    "lar_frame.drop(\"index\", inplace=True, axis=1) #drop additional index column"
   ]
  },
  {
   "cell_type": "code",
   "execution_count": null,
   "metadata": {},
   "outputs": [],
   "source": [
    "#Quality and Macro field interrelationship constraints:"
   ]
  },
  {
   "cell_type": "code",
   "execution_count": null,
   "metadata": {},
   "outputs": [],
   "source": [
    "#Create a sample TS row\n",
    "#Note: this will need to be more robust to include other federal agencies\n",
    "# mlo_id needs NA option\n",
    "#set dummy values for TS row\n",
    "ts_row_small = OrderedDict()\n",
    "ts_row_small[\"record_id\"]=\"1\"\n",
    "ts_row_small[\"inst_name\"]=\"Ficus Bank\"\n",
    "ts_row_small[\"calendar_year\"]=str(2018)\n",
    "ts_row_small[\"calendar_quarter\"]=\"4\"\n",
    "ts_row_small[\"contact_name\"]=\"Mr. Smug Pockets\"\n",
    "ts_row_small[\"contact_tel\"]=\"555-555-5555\"\n",
    "ts_row_small[\"contact_email\"]=\"pockets@ficus.com\"\n",
    "ts_row_small[\"contact_street_address\"]=\"1234 Ficus Lane\"\n",
    "ts_row_small[\"office_city\"]=\"Ficusville\"\n",
    "ts_row_small[\"office_state\"]=\"UT\"\n",
    "ts_row_small[\"office_zip\"]=\"84096\"\n",
    "ts_row_small[\"federal_agency\"]=\"9\"\n",
    "ts_row_small[\"lar_entries\"]= str(len(lar_frame))\n",
    "ts_row_small[\"tax_id\"]=\"01-0123456\"\n",
    "ts_row_small[\"lei\"]=lar_frame.get_value(0, \"lei\")\n",
    "\n",
    "print(len(lar_frame))"
   ]
  },
  {
   "cell_type": "code",
   "execution_count": null,
   "metadata": {},
   "outputs": [],
   "source": [
    "#join LAR and TS rows to make an output file\n",
    "def write_file(ts_input=None, lar_input=None, directory=\"../edits_files/\", name=\"passes_all.txt\"):\n",
    "    \"\"\"Takes a TS row as a dictionary and LAR data as a dataframe. Writes LAR data to file and \n",
    "    re-reads it to combine with TS data to make a full file.\"\"\"\n",
    "    #make directories for files if they do not exist\n",
    "    if not os.path.exists(directory):\n",
    "        os.makedirs(directory)\n",
    "\n",
    "    #write LAR dataframe to file\n",
    "    parts_dir = directory+\"file_parts/\"\n",
    "    if not os.path.exists(parts_dir):\n",
    "        os.makedirs(parts_dir)\n",
    "        \n",
    "    lar_input.to_csv(parts_dir + \"lar_data.txt\", sep=\"|\", header=False, index=False, index_label=False)\n",
    "    #load LAR data as file rows\n",
    "    with open(parts_dir + \"lar_data.txt\", 'r') as lar_data:\n",
    "        lar = lar_data.readlines()\n",
    "\n",
    "    with open(directory + name, 'w') as final_file:\n",
    "        final_file.write(\"|\".join(ts_input.values())+\"\\n\")\n",
    "        for line in lar:\n",
    "            final_file.write(\"{line}\".format(line=line))"
   ]
  },
  {
   "cell_type": "code",
   "execution_count": null,
   "metadata": {},
   "outputs": [],
   "source": [
    "#write sample file to disk\n",
    "write_file(ts_input=ts_row_small, lar_input=lar_frame)"
   ]
  },
  {
   "cell_type": "code",
   "execution_count": null,
   "metadata": {},
   "outputs": [],
   "source": [
    "ts_df, lar_df = validator.split_ts_row(path=\"../edits_files/\", data_file=\"passes_all.txt\")"
   ]
  },
  {
   "cell_type": "code",
   "execution_count": null,
   "metadata": {},
   "outputs": [],
   "source": [
    "validator.s300()\n",
    "validator.s301()\n",
    "validator.v600()\n",
    "validator.s302()\n",
    "validator.s304()\n",
    "validator.v601()\n",
    "validator.v602()\n",
    "validator.results"
   ]
  },
  {
   "cell_type": "code",
   "execution_count": null,
   "metadata": {
    "collapsed": true
   },
   "outputs": [],
   "source": []
  },
  {
   "cell_type": "code",
   "execution_count": null,
   "metadata": {},
   "outputs": [],
   "source": [
    "ts_df.calendar_year"
   ]
  },
  {
   "cell_type": "code",
   "execution_count": null,
   "metadata": {
    "collapsed": true
   },
   "outputs": [],
   "source": []
  }
 ],
 "metadata": {
  "kernelspec": {
   "display_name": "Python 3",
   "language": "python",
   "name": "python3"
  },
  "language_info": {
   "codemirror_mode": {
    "name": "ipython",
    "version": 3
   },
   "file_extension": ".py",
   "mimetype": "text/x-python",
   "name": "python",
   "nbconvert_exporter": "python",
   "pygments_lexer": "ipython3",
   "version": "3.6.2"
  }
 },
 "nbformat": 4,
 "nbformat_minor": 2
}
