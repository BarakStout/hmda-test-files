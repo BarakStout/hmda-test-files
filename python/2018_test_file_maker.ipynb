{
 "cells": [
  {
   "cell_type": "code",
   "execution_count": 1,
   "metadata": {
    "collapsed": true
   },
   "outputs": [],
   "source": [
    "#2018 HMDA Edit Testing File Generator\n",
    "from collections import OrderedDict\n",
    "import json\n",
    "import pandas as pd\n",
    "import random\n",
    "\n",
    "import lar_constraints\n",
    "import lar_generator\n",
    "\n"
   ]
  },
  {
   "cell_type": "code",
   "execution_count": 2,
   "metadata": {
    "collapsed": true
   },
   "outputs": [],
   "source": [
    "LAR_field_names = [\n",
    "    \"record_id\",\"lei\",\"uli\",\"app_date\",\"loan_type\",\"loan_purpose\",\n",
    "    \"preapproval\",\"const_method\",\"occ_type\",\"loan_amount\",\"action_taken\",\n",
    "    \"action_date\",\"street_address\",\"city\",\"state\",\"zip_code\",\"county\",\n",
    "    \"tract\",\"app_eth_1\",\"app_eth_2\",\"app_eth_3\",\"app_eth_4\",\"app_eth_5\",\n",
    "    \"app_eth_code_14\",\"app_eth_text\",\"co_app_eth_1\",\"co_app_eth_2\",\n",
    "    \"co_app_eth_3\",\"co_app_eth_4\",\"co_app_eth_5\",\"co_app_eth_code_14\",\n",
    "    \"app_eth_basis\",\"co_app_eth_basis\",\"app_race_1\",\"app_race_2\",\n",
    "    \"app_race_3\",\"app_race_4\",\"app_race_5\",\"app_race_code_1\",\n",
    "    \"app_race_code_27\",\"app_race_code_44\",\"co_app_race_1\",\"co_app_race_2\",\n",
    "    \"co_app_race_3\",\"co_app_race_4\",\"co_app_race_5\",\"co_app_race_code_1\",\n",
    "    \"co_app_race_code_27\",\"co_app_race_code_44\",\"app_race_basis\",\n",
    "    \"co_app_race_basis\",\"app_sex\",\"co_app_sex\",\"app_sex_basis\",\n",
    "    \"co_app_sex_basis\",\"app_age\",\"co_app_age\",\"income\",\"purchaser_type\",\n",
    "    \"rate_spread\",\"hoepa\",\"lien\",\"app_credit_score\",\"co_app_credit_score\",\n",
    "    \"app_score_name\",\"app_score_code_8\",\"co_app_score_name\",\n",
    "    \"co_app_score_code_8\",\"denial_1\",\"denial_2\",\"denial_3\",\"denial_4\",\n",
    "    \"denial_code_9\",\"loan_costs\",\"points_fees\",\"origination_fee\",\n",
    "    \"discount_points\",\"lender_credits\",\"interest_rate\",\"prepayment_penalty\",\n",
    "    \"dti\",\"cltv\",\"loan_term\",\"intro_rate\",\"balloon\",\"int_only_pmts\",\n",
    "    \"neg_amort\",\"non_amort_features\",\"property_value\",\"manufactured_type\",\n",
    "    \"manufactured_interest\",\"total_units\",\"affordable_units\",\n",
    "    \"submission_type\",\"initially_payable\",\"mlo_id\",\"aus_1\",\"aus_2\",\n",
    "    \"aus_3\",\"aus_4\",\"aus_5\",\"aus_code_5\",\"aus_result_1\",\"aus_result_2\",\n",
    "    \"aus_result_3\",\"aus_result_4\",\"aus_result_5\",\"aus_code_16\",\n",
    "    \"reverse_mortgage\",\"open_end_credit\",\"business_purpose\"]\n",
    "\n",
    "TS_field_names= [\n",
    "    \"record_id\",\"inst_name\",\"calendar_year\",\"calendar_quarter\",\n",
    "    \"contact_name\",\"contact_tel\",\"contact_email\",\"contact_street_address\",\n",
    "    \"office_city\",\"office_state\",\"office_zip\",\"federal_agency\",\n",
    "    \"lar_entries\",\"tax_id\",\"lei\"]"
   ]
  },
  {
   "cell_type": "code",
   "execution_count": 3,
   "metadata": {
    "collapsed": true
   },
   "outputs": [],
   "source": [
    "#data lists used in the construction of LARs\n"
   ]
  },
  {
   "cell_type": "code",
   "execution_count": 4,
   "metadata": {
    "collapsed": true
   },
   "outputs": [],
   "source": [
    "#2018 Filing Instruction Guide: https://www.consumerfinance.gov/data-research/hmda/static/for-filers/2018/2018-HMDA-FIG.pdf\n",
    "#Note: Add a format field? use to check format of entered data?\n",
    "\n",
    "#Note: add valid value list/function to the valid vals list field\n",
    "#IE list of ages 1 to n (range(200))\n",
    "#IE rate_spread float generator\n",
    "\n"
   ]
  },
  {
   "cell_type": "code",
   "execution_count": 5,
   "metadata": {},
   "outputs": [
    {
     "data": {
      "text/html": [
       "<div>\n",
       "<style>\n",
       "    .dataframe thead tr:only-child th {\n",
       "        text-align: right;\n",
       "    }\n",
       "\n",
       "    .dataframe thead th {\n",
       "        text-align: left;\n",
       "    }\n",
       "\n",
       "    .dataframe tbody tr th {\n",
       "        vertical-align: top;\n",
       "    }\n",
       "</style>\n",
       "<table border=\"1\" class=\"dataframe\">\n",
       "  <thead>\n",
       "    <tr style=\"text-align: right;\">\n",
       "      <th></th>\n",
       "      <th>data_type</th>\n",
       "      <th>dtypes_</th>\n",
       "      <th>field</th>\n",
       "      <th>valid_vals</th>\n",
       "    </tr>\n",
       "  </thead>\n",
       "  <tbody>\n",
       "    <tr>\n",
       "      <th>0</th>\n",
       "      <td>numeric</td>\n",
       "      <td>[int]</td>\n",
       "      <td>record_id</td>\n",
       "      <td>[1]</td>\n",
       "    </tr>\n",
       "    <tr>\n",
       "      <th>1</th>\n",
       "      <td>alphanumeric</td>\n",
       "      <td>[string]</td>\n",
       "      <td>inst_name</td>\n",
       "      <td>[]</td>\n",
       "    </tr>\n",
       "    <tr>\n",
       "      <th>2</th>\n",
       "      <td>numeric</td>\n",
       "      <td>[int]</td>\n",
       "      <td>calendar_year</td>\n",
       "      <td>[]</td>\n",
       "    </tr>\n",
       "    <tr>\n",
       "      <th>3</th>\n",
       "      <td>numeric</td>\n",
       "      <td>[int]</td>\n",
       "      <td>calendar_quarter</td>\n",
       "      <td>[4]</td>\n",
       "    </tr>\n",
       "    <tr>\n",
       "      <th>4</th>\n",
       "      <td>alphanumeric</td>\n",
       "      <td>[string]</td>\n",
       "      <td>contact_name</td>\n",
       "      <td>[]</td>\n",
       "    </tr>\n",
       "  </tbody>\n",
       "</table>\n",
       "</div>"
      ],
      "text/plain": [
       "      data_type   dtypes_             field valid_vals\n",
       "0       numeric     [int]         record_id        [1]\n",
       "1  alphanumeric  [string]         inst_name         []\n",
       "2       numeric     [int]     calendar_year         []\n",
       "3       numeric     [int]  calendar_quarter        [4]\n",
       "4  alphanumeric  [string]      contact_name         []"
      ]
     },
     "execution_count": 5,
     "metadata": {},
     "output_type": "execute_result"
    }
   ],
   "source": [
    "\n",
    "lar_schema_df = pd.DataFrame(json.load(open(\"../schemas/lar_schema.json\", \"r\")))\n",
    "ts_schema_df = pd.DataFrame(json.load(open(\"../schemas/ts_schema.json\", \"r\")))\n",
    "\n",
    "lar_schema_df.head()\n",
    "ts_schema_df.head()"
   ]
  },
  {
   "cell_type": "code",
   "execution_count": 10,
   "metadata": {},
   "outputs": [
    {
     "name": "stdout",
     "output_type": "stream",
     "text": [
      "1234 Hocus Potato Way   \n",
      "1234 Hocus Potato Way Spudfarm 12345 UT\n"
     ]
    }
   ],
   "source": [
    "\n",
    "boop = lar_generator.lar_gen(lar_schema_df, ts_schema_df) #instantiate generator\n",
    "darp = lar_constraints.lar_constraints()#instantiate constraints\n",
    "\n",
    "#test = lar_generator.lar_gen(lar_schema_df, ts_schema_df)\n",
    "row = boop.make_row()\n",
    "#set test values\n",
    "\n",
    "#print(row_test[\"loan_purpose\"], row_test[\"preapproval\"], \"purpose, pre\")\n",
    "#print(row[\"preapproval\"],row[\"action_taken\"])\n",
    "row[\"city\"] = \"\"; row['zip_code'] = \"\"; row[\"state\"] = \"\"\n",
    "print(row[\"street_address\"], row[\"city\"], row[\"zip_code\"], row[\"state\"])\n",
    "#print(row[\"affordable_units\"],\":units\", row[\"loan_purpose\"],\"purp\")\n",
    "#test functions in loop\n",
    "#for func in darp.constraint_funcs:\n",
    "#    row = getattr(darp, func)(row)\n",
    "row = getattr(darp, \"v622_const\")(row)\n",
    "#check modified output\n",
    "print(row[\"street_address\"], row[\"city\"], row[\"zip_code\"], row[\"state\"])\n",
    "\n",
    "#print(\"purpose:\", row_test[\"loan_purpose\"], \"pre:\", row_test[\"preapproval\"])\n",
    "#print(\"date:\",row_test[\"app_date\"], \"action:\",row_test[\"action_taken\"])\n",
    "\n"
   ]
  },
  {
   "cell_type": "code",
   "execution_count": null,
   "metadata": {
    "collapsed": true
   },
   "outputs": [],
   "source": []
  },
  {
   "cell_type": "code",
   "execution_count": null,
   "metadata": {
    "collapsed": true
   },
   "outputs": [],
   "source": []
  },
  {
   "cell_type": "code",
   "execution_count": null,
   "metadata": {
    "collapsed": true
   },
   "outputs": [],
   "source": []
  },
  {
   "cell_type": "code",
   "execution_count": null,
   "metadata": {
    "collapsed": true
   },
   "outputs": [],
   "source": [
    "#Quality and Macro field interrelationship constraints:"
   ]
  },
  {
   "cell_type": "markdown",
   "metadata": {
    "collapsed": true
   },
   "source": [
    "#set file length parameters\n",
    "#LAR rows (small=200, medium=1,000, large=10,000)\n",
    "lar_small = 200\n",
    "lar_medium = 1000\n",
    "lar_large = 10000\n",
    "\n",
    "#Notes: increase chance for enum added to range\n",
    "# free text not valid without certain selections\n",
    "# mlo_id needs NA option\n",
    "\n",
    "\n",
    "\n",
    "\n",
    "#set dummy values for TS row\n",
    "ts_row_small = OrderedDict()\n",
    "\n",
    "ts_row_small[\"record_id\"]=\"1\"\n",
    "ts_row_small[\"inst_name\"]=\"Ficus Bank\"\n",
    "ts_row_small[\"calendar_year\"]=str(2018)\n",
    "ts_row_small[\"calendar_quarter\"]=str(TS_df.valid_vals[TS_df.field==\"calendar_quarter\"].iloc[0][0])\n",
    "ts_row_small[\"contact_name\"]=\"Mr. Smug Pockets\"\n",
    "ts_row_small[\"contact_tel\"]=\"555-555-5555\"\n",
    "ts_row_small[\"contact_email\"]=\"pockets@ficus.com\"\n",
    "ts_row_small[\"contact_street_address\"]=\"1234 Ficus Lane\"\n",
    "ts_row_small[\"office_city\"]=\"Ficusville\"\n",
    "ts_row_small[\"office_state\"]=\"UT\"\n",
    "ts_row_small[\"office_zip\"]=\"84096\"\n",
    "ts_row_small[\"federal_agency\"]=str(TS_df.valid_vals[TS_df.field==\"federal_agency\"].iloc[0][0])\n",
    "ts_row_small[\"lar_entries\"]=str(lar_small)\n",
    "ts_row_small[\"tax_id\"]=\"01-0123456\"\n",
    "ts_row_small[\"lei\"]=\"12345678901234567890\"\n",
    "\n",
    "#create TS medium row\n",
    "ts_row_medium = ts_row_small.copy()\n",
    "ts_row_medium[\"lar_entries\"] = str(lar_medium)\n",
    "\n",
    "#create TS large row\n",
    "ts_row_large = ts_row_small.copy()\n",
    "ts_row_large[\"lar_entries\"] = str(lar_large)\n",
    "\n"
   ]
  },
  {
   "cell_type": "code",
   "execution_count": null,
   "metadata": {
    "collapsed": true
   },
   "outputs": [],
   "source": []
  },
  {
   "cell_type": "code",
   "execution_count": null,
   "metadata": {
    "collapsed": true
   },
   "outputs": [],
   "source": []
  },
  {
   "cell_type": "code",
   "execution_count": null,
   "metadata": {
    "collapsed": true
   },
   "outputs": [],
   "source": []
  },
  {
   "cell_type": "code",
   "execution_count": null,
   "metadata": {
    "collapsed": true
   },
   "outputs": [],
   "source": []
  },
  {
   "cell_type": "code",
   "execution_count": null,
   "metadata": {
    "collapsed": true
   },
   "outputs": [],
   "source": [
    "\n"
   ]
  },
  {
   "cell_type": "code",
   "execution_count": null,
   "metadata": {
    "collapsed": true
   },
   "outputs": [],
   "source": [
    "\n"
   ]
  }
 ],
 "metadata": {
  "kernelspec": {
   "display_name": "Python 3",
   "language": "python",
   "name": "python3"
  },
  "language_info": {
   "codemirror_mode": {
    "name": "ipython",
    "version": 3
   },
   "file_extension": ".py",
   "mimetype": "text/x-python",
   "name": "python",
   "nbconvert_exporter": "python",
   "pygments_lexer": "ipython3",
   "version": "3.6.2"
  }
 },
 "nbformat": 4,
 "nbformat_minor": 2
}
